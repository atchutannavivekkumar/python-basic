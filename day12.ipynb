{
 "cells": [
  {
   "cell_type": "code",
   "execution_count": 3,
   "id": "16f7314b",
   "metadata": {},
   "outputs": [
    {
     "name": "stdout",
     "output_type": "stream",
     "text": [
      "['a' 'j' 'd' 'j' 'i' 'e' 's' 'k' 's' 'i' 'j' 'h' 'b' 'v' 'c' 'a' 'm' 's'\n",
      " 'j' 'k' 'a' 'n']\n",
      "['a' 'b' 'c' 'd' 'e' 'h' 'i' 'j' 'k' 'm' 'n' 's' 'v']\n"
     ]
    }
   ],
   "source": [
    "import numpy as np\n",
    "array = \"ajdjiesksijhbvcamsjkan\"\n",
    "\n",
    "example_array = np.array(list(array))\n",
    "print(example_array)\n",
    "\n",
    "print(np.unique(example_array))"
   ]
  },
  {
   "cell_type": "code",
   "execution_count": 8,
   "id": "6f33e2ec",
   "metadata": {},
   "outputs": [
    {
     "name": "stdout",
     "output_type": "stream",
     "text": [
      "0    0\n",
      "1    1\n",
      "2    2\n",
      "3    3\n",
      "4    4\n",
      "5    5\n",
      "6    6\n",
      "7    7\n",
      "8    8\n",
      "9    9\n",
      "dtype: int64\n",
      "10\n",
      "RangeIndex(start=0, stop=10, step=1)\n",
      "[0 1 2 3 4 5 6 7 8 9]\n"
     ]
    }
   ],
   "source": [
    "import pandas as pd\n",
    "\n",
    "data = pd.Series((0,1,2,3,4,5,6,7,8,9))\n",
    "print(data)\n",
    "print(len(data))\n",
    "\n",
    "print(data.index)\n",
    "\n",
    "print(data.index.values)\n"
   ]
  },
  {
   "cell_type": "code",
   "execution_count": null,
   "id": "fc228ad6",
   "metadata": {},
   "outputs": [
    {
     "name": "stdout",
     "output_type": "stream",
     "text": [
      "1999    2.2\n",
      "2000    2.3\n",
      "2001    NaN\n",
      "dtype: float64\n",
      "2.3\n"
     ]
    }
   ],
   "source": [
    "data = pd.Series({1999:2.2, 2000 : 2.3, 2001: np.nan })\n",
    "print(data)\n",
    "\n"
   ]
  },
  {
   "cell_type": "code",
   "execution_count": 14,
   "id": "a3cd193f",
   "metadata": {},
   "outputs": [
    {
     "name": "stdout",
     "output_type": "stream",
     "text": [
      "2.3\n"
     ]
    }
   ],
   "source": [
    "print(data[2000])"
   ]
  },
  {
   "cell_type": "code",
   "execution_count": 16,
   "id": "f31101d9",
   "metadata": {},
   "outputs": [
    {
     "name": "stdout",
     "output_type": "stream",
     "text": [
      "Year\n",
      "1999    2.2\n",
      "2000    2.3\n",
      "2001    NaN\n",
      "Name: %, dtype: float64\n"
     ]
    }
   ],
   "source": [
    "data.index.name = \"Year\"\n",
    "data.name = \"%\"\n",
    "\n",
    "print(data)"
   ]
  },
  {
   "cell_type": "code",
   "execution_count": 17,
   "id": "88e7a563",
   "metadata": {},
   "outputs": [
    {
     "name": "stdout",
     "output_type": "stream",
     "text": [
      "          Beer  Wine  sprints\n",
      "Virginia   1.1   1.2      1.3\n",
      "Texas      2.1   2.2      2.3\n",
      "India      3.1   3.2      3.3\n"
     ]
    }
   ],
   "source": [
    "panddata = pd.DataFrame([(1.1,1.2,1.3), (2.1,2.2,2.3),(3.1,3.2,3.3)],\n",
    "                columns = (\"Beer\",\"Wine\", \"sprints\"),\n",
    "                index = (\"Virginia\", \"Texas\", \"India\"))\n",
    "\n",
    "print(panddata)"
   ]
  },
  {
   "cell_type": "code",
   "execution_count": 19,
   "id": "30df9091",
   "metadata": {},
   "outputs": [
    {
     "name": "stdout",
     "output_type": "stream",
     "text": [
      "          Beer  Wine  sprints\n",
      "Virginia   1.1   1.2      1.3\n",
      "Texas      2.1   2.2      2.3\n",
      "India      3.1   3.2      3.3\n",
      "trails\n",
      "          Beer  Wine  sprints\n",
      "Virginia   1.1   1.2      1.3\n",
      "Texas      2.1   2.2      2.3\n",
      "India      3.1   3.2      3.3\n"
     ]
    }
   ],
   "source": [
    "print(panddata.head())\n",
    "\n",
    "print(\"trails\")\n",
    "\n",
    "print(panddata.tail())\n"
   ]
  },
  {
   "cell_type": "code",
   "execution_count": 20,
   "id": "6c79faba",
   "metadata": {},
   "outputs": [
    {
     "name": "stdout",
     "output_type": "stream",
     "text": [
      "          Beer  Wine  sprints  total\n",
      "Virginia   1.1   1.2      1.3      0\n",
      "Texas      2.1   2.2      2.3      0\n",
      "India      3.1   3.2      3.3      0\n"
     ]
    }
   ],
   "source": [
    "panddata[\"total\"] = 0\n",
    "print(panddata.head())"
   ]
  },
  {
   "cell_type": "code",
   "execution_count": 32,
   "id": "2a4dbe0a",
   "metadata": {},
   "outputs": [
    {
     "name": "stdout",
     "output_type": "stream",
     "text": [
      "          Beer  Wine  sprints  total  novalue\n",
      "Virginia   1.1   1.2      1.3      0      NaN\n",
      "Texas      2.1   2.2      2.3      0      NaN\n",
      "India      3.1   3.2      3.3      0      NaN\n"
     ]
    }
   ],
   "source": [
    "panddata[\"novalue\"]= np.nan\n",
    "\n",
    "print(panddata.head())"
   ]
  },
  {
   "cell_type": "code",
   "execution_count": 31,
   "id": "a2740171",
   "metadata": {},
   "outputs": [
    {
     "data": {
      "text/html": [
       "<div>\n",
       "<style scoped>\n",
       "    .dataframe tbody tr th:only-of-type {\n",
       "        vertical-align: middle;\n",
       "    }\n",
       "\n",
       "    .dataframe tbody tr th {\n",
       "        vertical-align: top;\n",
       "    }\n",
       "\n",
       "    .dataframe thead th {\n",
       "        text-align: right;\n",
       "    }\n",
       "</style>\n",
       "<table border=\"1\" class=\"dataframe\">\n",
       "  <thead>\n",
       "    <tr style=\"text-align: right;\">\n",
       "      <th></th>\n",
       "      <th>Beer</th>\n",
       "      <th>Wine</th>\n",
       "      <th>sprints</th>\n",
       "      <th>total</th>\n",
       "      <th>novalue</th>\n",
       "    </tr>\n",
       "  </thead>\n",
       "  <tbody>\n",
       "  </tbody>\n",
       "</table>\n",
       "</div>"
      ],
      "text/plain": [
       "Empty DataFrame\n",
       "Columns: [Beer, Wine, sprints, total, novalue]\n",
       "Index: []"
      ]
     },
     "execution_count": 31,
     "metadata": {},
     "output_type": "execute_result"
    }
   ],
   "source": [
    "panddata.dropna()"
   ]
  },
  {
   "cell_type": "code",
   "execution_count": 29,
   "id": "760b9cda",
   "metadata": {},
   "outputs": [
    {
     "data": {
      "text/html": [
       "<div>\n",
       "<style scoped>\n",
       "    .dataframe tbody tr th:only-of-type {\n",
       "        vertical-align: middle;\n",
       "    }\n",
       "\n",
       "    .dataframe tbody tr th {\n",
       "        vertical-align: top;\n",
       "    }\n",
       "\n",
       "    .dataframe thead th {\n",
       "        text-align: right;\n",
       "    }\n",
       "</style>\n",
       "<table border=\"1\" class=\"dataframe\">\n",
       "  <thead>\n",
       "    <tr style=\"text-align: right;\">\n",
       "      <th></th>\n",
       "      <th>Beer</th>\n",
       "      <th>Wine</th>\n",
       "      <th>sprints</th>\n",
       "      <th>total</th>\n",
       "    </tr>\n",
       "  </thead>\n",
       "  <tbody>\n",
       "    <tr>\n",
       "      <th>Virginia</th>\n",
       "      <td>1.1</td>\n",
       "      <td>1.2</td>\n",
       "      <td>1.3</td>\n",
       "      <td>0</td>\n",
       "    </tr>\n",
       "    <tr>\n",
       "      <th>Texas</th>\n",
       "      <td>2.1</td>\n",
       "      <td>2.2</td>\n",
       "      <td>2.3</td>\n",
       "      <td>0</td>\n",
       "    </tr>\n",
       "    <tr>\n",
       "      <th>India</th>\n",
       "      <td>3.1</td>\n",
       "      <td>3.2</td>\n",
       "      <td>3.3</td>\n",
       "      <td>0</td>\n",
       "    </tr>\n",
       "  </tbody>\n",
       "</table>\n",
       "</div>"
      ],
      "text/plain": [
       "          Beer  Wine  sprints  total\n",
       "Virginia   1.1   1.2      1.3      0\n",
       "Texas      2.1   2.2      2.3      0\n",
       "India      3.1   3.2      3.3      0"
      ]
     },
     "execution_count": 29,
     "metadata": {},
     "output_type": "execute_result"
    }
   ],
   "source": [
    "panddata.dropna(how=\"all\", axis=1)"
   ]
  },
  {
   "cell_type": "code",
   "execution_count": 33,
   "id": "b9e87fbc",
   "metadata": {},
   "outputs": [
    {
     "data": {
      "text/html": [
       "<div>\n",
       "<style scoped>\n",
       "    .dataframe tbody tr th:only-of-type {\n",
       "        vertical-align: middle;\n",
       "    }\n",
       "\n",
       "    .dataframe tbody tr th {\n",
       "        vertical-align: top;\n",
       "    }\n",
       "\n",
       "    .dataframe thead th {\n",
       "        text-align: right;\n",
       "    }\n",
       "</style>\n",
       "<table border=\"1\" class=\"dataframe\">\n",
       "  <thead>\n",
       "    <tr style=\"text-align: right;\">\n",
       "      <th></th>\n",
       "      <th>Beer</th>\n",
       "      <th>Wine</th>\n",
       "      <th>sprints</th>\n",
       "      <th>total</th>\n",
       "      <th>novalue</th>\n",
       "    </tr>\n",
       "  </thead>\n",
       "  <tbody>\n",
       "    <tr>\n",
       "      <th>Virginia</th>\n",
       "      <td>False</td>\n",
       "      <td>False</td>\n",
       "      <td>False</td>\n",
       "      <td>False</td>\n",
       "      <td>True</td>\n",
       "    </tr>\n",
       "    <tr>\n",
       "      <th>Texas</th>\n",
       "      <td>False</td>\n",
       "      <td>False</td>\n",
       "      <td>False</td>\n",
       "      <td>False</td>\n",
       "      <td>True</td>\n",
       "    </tr>\n",
       "    <tr>\n",
       "      <th>India</th>\n",
       "      <td>False</td>\n",
       "      <td>False</td>\n",
       "      <td>False</td>\n",
       "      <td>False</td>\n",
       "      <td>True</td>\n",
       "    </tr>\n",
       "  </tbody>\n",
       "</table>\n",
       "</div>"
      ],
      "text/plain": [
       "           Beer   Wine  sprints  total  novalue\n",
       "Virginia  False  False    False  False     True\n",
       "Texas     False  False    False  False     True\n",
       "India     False  False    False  False     True"
      ]
     },
     "execution_count": 33,
     "metadata": {},
     "output_type": "execute_result"
    }
   ],
   "source": [
    "panddata.isnull()"
   ]
  }
 ],
 "metadata": {
  "kernelspec": {
   "display_name": "base",
   "language": "python",
   "name": "python3"
  },
  "language_info": {
   "codemirror_mode": {
    "name": "ipython",
    "version": 3
   },
   "file_extension": ".py",
   "mimetype": "text/x-python",
   "name": "python",
   "nbconvert_exporter": "python",
   "pygments_lexer": "ipython3",
   "version": "3.12.4"
  }
 },
 "nbformat": 4,
 "nbformat_minor": 5
}
