{
 "cells": [
  {
   "cell_type": "code",
   "execution_count": 1,
   "id": "4db1850f",
   "metadata": {},
   "outputs": [
    {
     "name": "stdout",
     "output_type": "stream",
     "text": [
      "New patient\n"
     ]
    }
   ],
   "source": [
    "name = \"John Smith\"\n",
    "age = 21\n",
    "patient_entry = \"New\"\n",
    "if patient_entry == \"New\":\n",
    "    print(\"New patient\")\n",
    "else:\n",
    "    print(\"old patient\")"
   ]
  },
  {
   "cell_type": "code",
   "execution_count": 1,
   "id": "2a5205b8",
   "metadata": {},
   "outputs": [
    {
     "name": "stdout",
     "output_type": "stream",
     "text": [
      "vivek likes blue\n"
     ]
    }
   ],
   "source": [
    "person_name = input(\"Enter your name: \")\n",
    "fav_colour = input(\"Enter your favourite colour: \")\n",
    "\n",
    "print(person_name + \" likes \"+ fav_colour)"
   ]
  },
  {
   "cell_type": "code",
   "execution_count": 4,
   "id": "7a67c6b4",
   "metadata": {},
   "outputs": [
    {
     "name": "stdout",
     "output_type": "stream",
     "text": [
      "Age of vivek is 22\n"
     ]
    }
   ],
   "source": [
    "person_name = input(\"enter your name: \")\n",
    "birth_year = int(input(\"enter your birth age: \"))\n",
    "\n",
    "age = 2025 - birth_year\n",
    "\n",
    "print(\"Age of \"+ person_name+ \" is\", age )"
   ]
  },
  {
   "cell_type": "code",
   "execution_count": 7,
   "id": "a8681c0e",
   "metadata": {},
   "outputs": [
    {
     "name": "stdout",
     "output_type": "stream",
     "text": [
      "person weight in kilo's is: 97.65\n"
     ]
    }
   ],
   "source": [
    "Person_weight = int(input(\"enter your weight in pounds: \"))\n",
    "\n",
    "conversion_kilo = Person_weight * 0.45 \n",
    "\n",
    "print(\"person weight in kilo's is:\",conversion_kilo)"
   ]
  }
 ],
 "metadata": {
  "kernelspec": {
   "display_name": "base",
   "language": "python",
   "name": "python3"
  },
  "language_info": {
   "codemirror_mode": {
    "name": "ipython",
    "version": 3
   },
   "file_extension": ".py",
   "mimetype": "text/x-python",
   "name": "python",
   "nbconvert_exporter": "python",
   "pygments_lexer": "ipython3",
   "version": "3.12.4"
  }
 },
 "nbformat": 4,
 "nbformat_minor": 5
}
