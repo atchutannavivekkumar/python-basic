{
 "cells": [
  {
   "cell_type": "code",
   "execution_count": null,
   "id": "d40e08a3",
   "metadata": {},
   "outputs": [
    {
     "name": "stdout",
     "output_type": "stream",
     "text": [
      "Draw\n",
      "Move\n",
      "20\n"
     ]
    },
    {
     "ename": "AttributeError",
     "evalue": "'Point' object has no attribute 'x'",
     "output_type": "error",
     "traceback": [
      "\u001b[0;31m---------------------------------------------------------------------------\u001b[0m",
      "\u001b[0;31mAttributeError\u001b[0m                            Traceback (most recent call last)",
      "Cell \u001b[0;32mIn[7], line 18\u001b[0m\n\u001b[1;32m     15\u001b[0m \u001b[38;5;28mprint\u001b[39m(point1\u001b[38;5;241m.\u001b[39mx)\n\u001b[1;32m     17\u001b[0m point2 \u001b[38;5;241m=\u001b[39m Point()\n\u001b[0;32m---> 18\u001b[0m \u001b[38;5;28mprint\u001b[39m(point2\u001b[38;5;241m.\u001b[39mx)\n",
      "\u001b[0;31mAttributeError\u001b[0m: 'Point' object has no attribute 'x'"
     ]
    }
   ],
   "source": [
    "#creating class and points.\n",
    "class Point:\n",
    "    def move(self):\n",
    "        print(\"Move\")\n",
    "    def draw(self):\n",
    "        print(\"Draw\")\n",
    "\n",
    "point1 = Point()\n",
    "point1.draw()\n",
    "point1.move()\n",
    "\n",
    "point1.x =20\n",
    "point1.y = 30 \n",
    "\n",
    "print(point1.x)\n",
    "\n",
    "point2 = Point()\n"
   ]
  },
  {
   "cell_type": "code",
   "execution_count": 16,
   "id": "25614b57",
   "metadata": {},
   "outputs": [
    {
     "name": "stdout",
     "output_type": "stream",
     "text": [
      " nine \n"
     ]
    }
   ],
   "source": [
    "num = input()\n",
    "textno = \" \"\n",
    "dict = {\n",
    "    \"1\" : \"one\",\n",
    "    \"2\" : \"two\",\n",
    "    \"9\" : \"nine\"\n",
    "}\n",
    "for i in num:\n",
    "    textno = textno + dict[i] + \" \"\n",
    "print(textno)\n",
    "\n"
   ]
  },
  {
   "cell_type": "code",
   "execution_count": 18,
   "id": "83c71f67",
   "metadata": {},
   "outputs": [
    {
     "name": "stdout",
     "output_type": "stream",
     "text": [
      "vivek is talking.\n"
     ]
    }
   ],
   "source": [
    "#person and name and talk method \n",
    "\n",
    "class person:\n",
    "    def __init__(self,name):\n",
    "        self.name = name\n",
    "    def talk(self):\n",
    "        print(f\"{name} is talking.\")\n",
    "\n",
    "name = input(\"Enter your name: \")\n",
    "naming = person(name)\n",
    "naming.talk()\n",
    "        "
   ]
  },
  {
   "cell_type": "code",
   "execution_count": 19,
   "id": "0d8b8fa3",
   "metadata": {},
   "outputs": [
    {
     "name": "stdout",
     "output_type": "stream",
     "text": [
      " good morning 😁 \n"
     ]
    }
   ],
   "source": [
    "x = input(\" \")\n",
    "words = x.split(' ')\n",
    "dictionary = {\":)\": \"😁\", \":(\": \"🙂‍↕️\"}\n",
    "temp = \" \"\n",
    "for word in words:\n",
    "  temp += dictionary.get(word, word) + \" \"\n",
    "print(temp)\n"
   ]
  },
  {
   "cell_type": "code",
   "execution_count": 21,
   "id": "ceef6a01",
   "metadata": {},
   "outputs": [
    {
     "name": "stdout",
     "output_type": "stream",
     "text": [
      "walk\n",
      "bow bow\n",
      "Meow Meow\n",
      "walk\n"
     ]
    }
   ],
   "source": [
    "#animals \n",
    "\n",
    "class Mammal():\n",
    "    def walk(self):\n",
    "        print(\"walk\")\n",
    "\n",
    "\n",
    "class Dog(Mammal):\n",
    "    def bark(self):\n",
    "        print(\"bow bow\")\n",
    "\n",
    "\n",
    "class Cat(Mammal):\n",
    "    def Meow(self):\n",
    "        print(\"Meow Meow\")\n",
    "\n",
    "\n",
    "dog1 = Dog()\n",
    "dog1.walk()\n",
    "dog1.bark()\n",
    "\n",
    "cat1 = Cat()\n",
    "cat1.Meow()\n",
    "cat1.walk()"
   ]
  },
  {
   "cell_type": "code",
   "execution_count": null,
   "id": "9fc04fb3",
   "metadata": {},
   "outputs": [
    {
     "name": "stdout",
     "output_type": "stream",
     "text": [
      "The weight in lbs is 488.88888888888886\n",
      "The weight in kilos is 99.0\n"
     ]
    }
   ],
   "source": [
    "import convertors\n",
    "\n",
    "weight = int(input(\"enter your weight: \"))\n",
    "\n",
    "print(f\"The weight in lbs is {convertors.Convert_kilostolbs(weight)}\")\n",
    "print(f\"The weight in kilos is {convertors.Convert_lbstokilos(weight)}\")"
   ]
  },
  {
   "cell_type": "code",
   "execution_count": 7,
   "id": "0915b59c",
   "metadata": {},
   "outputs": [
    {
     "name": "stdout",
     "output_type": "stream",
     "text": [
      "The original string is vivek and the converted string is Vivek\n"
     ]
    }
   ],
   "source": [
    "#convert string into title case \n",
    "text = input(\"enter the string: \")\n",
    "capletter = text[0].capitalize()\n",
    "remainingstring = text[1:]\n",
    "print(f\"The original string is {text} and the converted string is {capletter}{remainingstring}\")"
   ]
  },
  {
   "cell_type": "code",
   "execution_count": 22,
   "id": "9cfd648d",
   "metadata": {},
   "outputs": [
    {
     "name": "stdout",
     "output_type": "stream",
     "text": [
      "True\n",
      "The string vivek don't contains on numberical numbers.\n"
     ]
    }
   ],
   "source": [
    "#check is the string contains only numbers \n",
    "\n",
    "text = input(\"Enter the string: \")\n",
    "print(text.isalpha())\n",
    "i = 0\n",
    "for i in text:\n",
    "    if text.isalpha() == True:\n",
    "        print(f\"The string {text} don't contains on numberical numbers.\")\n",
    "        break;\n",
    "    else:\n",
    "        print(f\"The string {text} contains on numberical numbers.\")\n",
    "        break;\n"
   ]
  },
  {
   "cell_type": "code",
   "execution_count": null,
   "id": "b0d9e56a",
   "metadata": {},
   "outputs": [],
   "source": []
  },
  {
   "cell_type": "code",
   "execution_count": null,
   "id": "0e7b76eb",
   "metadata": {},
   "outputs": [
    {
     "name": "stdout",
     "output_type": "stream",
     "text": [
      "0\n",
      "1\n",
      "2\n",
      "3\n",
      "4\n",
      "5\n",
      "6\n"
     ]
    }
   ],
   "source": [
    "String = \"0123456\"\n",
    "\n",
    "for i in String:\n",
    "    print(i)"
   ]
  },
  {
   "cell_type": "code",
   "execution_count": null,
   "id": "70cb9c94",
   "metadata": {},
   "outputs": [
    {
     "name": "stdout",
     "output_type": "stream",
     "text": [
      "The string 'vi2' doesn't contain numerical numbers.\n",
      "The string 'vi2' doesn't contain numerical numbers.\n",
      "The string 'vi2' doesn't contain numerical numbers.\n"
     ]
    }
   ],
   "source": [
    "text = input(\"Enter the string: \")\n",
    "num = \"0123456789\"\n",
    "\n",
    "found_number = False\n",
    "\n",
    "for i in range(len(text)):           # i is now an index\n",
    "    for j in range(len(num)):        # j is also an index\n",
    "        if text[i] == num[j]:        # compare characters\n",
    "            print(f\"The string '{text}' contains numerical numbers.\")\n",
    "            break;\n",
    "        else:\n",
    "            print(f\"The string '{text}' doesn't contain numerical numbers.\")\n",
    "            break;\n",
    "   "
   ]
  },
  {
   "cell_type": "code",
   "execution_count": 41,
   "id": "742426ec",
   "metadata": {},
   "outputs": [
    {
     "name": "stdout",
     "output_type": "stream",
     "text": [
      "The number of words in a sentence is 5\n"
     ]
    }
   ],
   "source": [
    "#count no of words in sentence\n",
    "\n",
    "text = input(\"Enter the sentence. \")\n",
    "\n",
    "countspace = text.count(\" \")\n",
    "#print(countspace)\n",
    "\n",
    "no_ofwords = countspace+1\n",
    "\n",
    "print(f\"The number of words in a sentence is {no_ofwords}\")"
   ]
  },
  {
   "cell_type": "code",
   "execution_count": null,
   "id": "fb475b52",
   "metadata": {},
   "outputs": [
    {
     "name": "stdout",
     "output_type": "stream",
     "text": [
      "1\n"
     ]
    }
   ],
   "source": [
    "text = input(\"enter the text: \")\n",
    "lentext = len(text)-1\n",
    "same_char = 0\n",
    "i = 0\n",
    "\n",
    "for i in range(len(text) - 1):  # loop until second last character\n",
    "    if text[i] == text[i + 1]:\n",
    "        same_char += 1\n",
    "\n",
    "        if text[i] in repeats:\n",
    "            repeats[text[i]] += 1\n",
    "        else:\n",
    "            repeats[text[i]] = 1\n",
    "\n",
    "print(same_char)"
   ]
  },
  {
   "cell_type": "code",
   "execution_count": null,
   "id": "9bff12e3",
   "metadata": {},
   "outputs": [
    {
     "name": "stdout",
     "output_type": "stream",
     "text": [
      "v\n",
      "i\n",
      "v\n",
      "e\n"
     ]
    }
   ],
   "source": [
    "#count the frequency of the character. \n",
    "text = \"vivek\"\n",
    "lentext = len(text)-1\n",
    "for i in range(lentext):\n"
   ]
  }
 ],
 "metadata": {
  "kernelspec": {
   "display_name": "base",
   "language": "python",
   "name": "python3"
  },
  "language_info": {
   "codemirror_mode": {
    "name": "ipython",
    "version": 3
   },
   "file_extension": ".py",
   "mimetype": "text/x-python",
   "name": "python",
   "nbconvert_exporter": "python",
   "pygments_lexer": "ipython3",
   "version": "3.12.4"
  }
 },
 "nbformat": 4,
 "nbformat_minor": 5
}
