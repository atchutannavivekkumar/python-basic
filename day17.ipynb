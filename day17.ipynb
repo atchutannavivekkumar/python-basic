{
 "cells": [
  {
   "cell_type": "code",
   "execution_count": 4,
   "id": "a1e02c1f",
   "metadata": {},
   "outputs": [
    {
     "name": "stdout",
     "output_type": "stream",
     "text": [
      "(1, 2, 3)\n",
      "1\n",
      "1,2,3 is equal to 1, 2, 3\n"
     ]
    }
   ],
   "source": [
    "number = (1,2,3)\n",
    "print(number)\n",
    "\n",
    "x = number[0]\n",
    "y = number[1]\n",
    "z = number[2]\n",
    "print(x)\n",
    "\n",
    "a,v,d = number\n",
    "\n",
    "print(f\"{a},{v},{d} is equal to {x}, {y}, {z}\")"
   ]
  },
  {
   "cell_type": "code",
   "execution_count": 6,
   "id": "c466b443",
   "metadata": {},
   "outputs": [
    {
     "name": "stdout",
     "output_type": "stream",
     "text": [
      "{'name': 'k', 'age': 2, 'company name': 'm'}\n",
      "2\n"
     ]
    }
   ],
   "source": [
    "customer = {\n",
    "    \"name\" : str(input(\"Enter your name\")),\n",
    "    \"age\" : int(input(\"Enter your age\")),\n",
    "    \"company name\" : str((input(\"enter company name: \")))\n",
    "}\n",
    "\n",
    "print(customer)\n",
    "\n",
    "print(customer[\"age\"])"
   ]
  },
  {
   "cell_type": "code",
   "execution_count": null,
   "id": "1dbc0a43",
   "metadata": {},
   "outputs": [
    {
     "name": "stdout",
     "output_type": "stream",
     "text": [
      "six three zero two zero seven seven four two four \n"
     ]
    }
   ],
   "source": [
    "phone_no = input(\"Enter the phone no: \")\n",
    "\n",
    "phonenum = {\n",
    "    \"1\" : \"one\",\n",
    "    \"2\" : \"two\",\n",
    "    \"3\" : \"three\",\n",
    "    \"4\" : \"four\",\n",
    "    \"5\" : \"five\",\n",
    "    \"6\" : \"six\",\n",
    "    \"7\" : \"seven\",\n",
    "    \"8\" : \"eight\",\n",
    "    \"9\" : \"nine\",\n",
    "    \"0\" : \"zero\"\n",
    "}\n",
    "output = \"\"\n",
    "for i in phone_no:\n",
    "    output = output + phonenum.get(i) + \" \"\n",
    "print(output)\n"
   ]
  },
  {
   "cell_type": "code",
   "execution_count": null,
   "id": "82d9d4b6",
   "metadata": {},
   "outputs": [
    {
     "name": "stdout",
     "output_type": "stream",
     "text": [
      "sad\n",
      "1\n",
      "sad\n",
      "sad 😔.\n"
     ]
    }
   ],
   "source": [
    "message = input(\"Enter the message: \")\n",
    "message_split = message.split()\n",
    "len_message_split = len(message_split)\n",
    "#print(message)\n",
    "#print(len_message_split)\n",
    "#print(message_split[len_message_split - 1])\n",
    "\n",
    "emojis = {\n",
    "    \"sad\" : \"😔\",\n",
    "    \"happy\" : \"🤣\",\n",
    "    \"crazy\" : \"🤪\"\n",
    "}\n",
    "\n",
    "for i in message:\n",
    "    if message_split[len_message_split - 1] == \"sad\":\n",
    "        print(f'{message} {emojis[\"sad\"]}.')\n",
    "        break\n",
    "    elif message_split[len_message_split - 1] == \"happy\" :\n",
    "        print(f'{message} {emojis[\"happy\"]}.')\n",
    "        break\n",
    "    else:\n",
    "        print(f'{message} {emojis[\"crazy\"]}.')\n",
    "\n"
   ]
  },
  {
   "cell_type": "code",
   "execution_count": 39,
   "id": "29287a5f",
   "metadata": {},
   "outputs": [
    {
     "name": "stdout",
     "output_type": "stream",
     "text": [
      "its 🤪 \n"
     ]
    }
   ],
   "source": [
    "message = input(\"Enter the message: \")\n",
    "message_split = message.split()\n",
    "len_message_split = len(message_split)\n",
    "#print(message)\n",
    "#print(len_message_split)\n",
    "#print(message_split[len_message_split - 1])\n",
    "\n",
    "emojis = {\n",
    "    \"sad\" : \"😔\",\n",
    "    \"happy\" : \"🤣\",\n",
    "    \"crazy\" : \"🤪\"\n",
    "}\n",
    "output = \"\"\n",
    "for i in message_split:\n",
    "    output = output +emojis.get(i,i) + \" \"\n",
    "print(output)\n"
   ]
  },
  {
   "cell_type": "code",
   "execution_count": null,
   "id": "52421fcf",
   "metadata": {},
   "outputs": [
    {
     "name": "stdout",
     "output_type": "stream",
     "text": [
      "start\n",
      "Hi vivek kumar\n",
      "Welcome on board\n",
      "end\n"
     ]
    }
   ],
   "source": [
    "def greet_user(first_name, last_name):\n",
    "    print(f\"Hi {first_name} {last_name}\")\n",
    "    print(\"Welcome on board\")\n",
    "\n",
    "#namme = str(input(\"enter your name: \"))\n",
    "print(\"start\")\n",
    "greet_user(\"vivek\", \"kumar\")\n",
    "#greet_user(\"mary\")\n",
    "#greet_user(namme)\n",
    "print(\"end\")"
   ]
  },
  {
   "cell_type": "code",
   "execution_count": 50,
   "id": "4d52a705",
   "metadata": {},
   "outputs": [
    {
     "data": {
      "text/plain": [
       "16"
      ]
     },
     "execution_count": 50,
     "metadata": {},
     "output_type": "execute_result"
    }
   ],
   "source": [
    "def squaring(number):\n",
    "    squaring = number*number\n",
    "    return squaring\n",
    "\n",
    "no = int(input(\"enter a no: \"))\n",
    "squaring(no)"
   ]
  }
 ],
 "metadata": {
  "kernelspec": {
   "display_name": "base",
   "language": "python",
   "name": "python3"
  },
  "language_info": {
   "codemirror_mode": {
    "name": "ipython",
    "version": 3
   },
   "file_extension": ".py",
   "mimetype": "text/x-python",
   "name": "python",
   "nbconvert_exporter": "python",
   "pygments_lexer": "ipython3",
   "version": "3.12.4"
  }
 },
 "nbformat": 4,
 "nbformat_minor": 5
}
