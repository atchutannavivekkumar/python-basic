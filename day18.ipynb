{
 "cells": [
  {
   "cell_type": "code",
   "execution_count": 6,
   "id": "909a298d",
   "metadata": {},
   "outputs": [
    {
     "name": "stdout",
     "output_type": "stream",
     "text": [
      "The number 21 is odd number\n"
     ]
    }
   ],
   "source": [
    "#Write a program to check whether a number is even or odd.\n",
    "\n",
    "Num = int(input(\"Enter the number: \"))\n",
    "\n",
    "if Num%2 == 0:\n",
    "    print(f\"The number {Num} is even number\")\n",
    "else:\n",
    "    print(f\"The number {Num} is odd number\")\n"
   ]
  },
  {
   "cell_type": "code",
   "execution_count": 7,
   "id": "3d293ea0",
   "metadata": {},
   "outputs": [
    {
     "name": "stdout",
     "output_type": "stream",
     "text": [
      "keviv\n"
     ]
    }
   ],
   "source": [
    "#Write a program that takes a string and prints it in reverse order.\n",
    "\n",
    "text = input(\"Enter the string: \")\n",
    "\n",
    "print(text[::-1])"
   ]
  },
  {
   "cell_type": "code",
   "execution_count": null,
   "id": "b858c0f8",
   "metadata": {},
   "outputs": [
    {
     "name": "stdout",
     "output_type": "stream",
     "text": [
      "The 3n3 is the greater that 1 and 2.\n"
     ]
    }
   ],
   "source": [
    "#Write a program to find the largest of three numbers entered by the user.\n",
    "\n",
    "num1 = int(input(\"Enter the number1: \"))\n",
    "num2 = int(input(\"Enter the number2: \"))\n",
    "num3 = int(input(\"Enter the number3: \"))\n",
    "\n",
    "if num1 > num2:\n",
    "    if num1 >num3:\n",
    "        print(f\"The {num1} is the greater that {num2} and {num3}.\")\n",
    "    else:\n",
    "        print(f\"The {num3} is the greater that {num2} and {num1}.\")\n",
    "elif num1 < num2:\n",
    "     if num2 >num3:\n",
    "        print(f\"The {num2} is the greater that {num1} and {num3}.\")\n",
    "     else:\n",
    "        print(f\"The  {num3} is the greater that {num2} and {num1}.\")\n",
    "else:\n",
    "        print(f\"The  {num3} is the greater that {num2} and {num1}.\")\n",
    "\n",
    "\n",
    "\n"
   ]
  },
  {
   "cell_type": "code",
   "execution_count": 14,
   "id": "eee147b3",
   "metadata": {},
   "outputs": [
    {
     "name": "stdout",
     "output_type": "stream",
     "text": [
      "{'b': 1, 'a': 3, 'n': 2}\n"
     ]
    }
   ],
   "source": [
    "#Write a program to count the frequency of each character in a string.\n",
    "#Example: \"banana\" → {'b':1, 'a':3, 'n':2}\n",
    "\n",
    "text = input(\"Enter the word: \")\n",
    "\n",
    "dict = {}\n",
    "\n",
    "for i in text:\n",
    "    if i in dict:\n",
    "        dict[i] += 1\n",
    "    else:\n",
    "        dict[i] = 1\n",
    "\n",
    "print(dict)\n"
   ]
  },
  {
   "cell_type": "code",
   "execution_count": 15,
   "id": "93dfe502",
   "metadata": {},
   "outputs": [
    {
     "name": "stdout",
     "output_type": "stream",
     "text": [
      "0\n",
      "1\n",
      "1\n",
      "2\n",
      "3\n",
      "5\n",
      "8\n",
      "13\n",
      "21\n",
      "34\n"
     ]
    }
   ],
   "source": [
    "Loopno = int(input(\"enter no of loops wanted: \"))\n",
    "\n",
    "a = 0 \n",
    "b = 1\n",
    "\n",
    "for i in range(Loopno):\n",
    "    print(a)\n",
    "    next_no = a+b\n",
    "    a = b \n",
    "    b = next_no"
   ]
  }
 ],
 "metadata": {
  "kernelspec": {
   "display_name": "base",
   "language": "python",
   "name": "python3"
  },
  "language_info": {
   "codemirror_mode": {
    "name": "ipython",
    "version": 3
   },
   "file_extension": ".py",
   "mimetype": "text/x-python",
   "name": "python",
   "nbconvert_exporter": "python",
   "pygments_lexer": "ipython3",
   "version": "3.12.4"
  }
 },
 "nbformat": 4,
 "nbformat_minor": 5
}
