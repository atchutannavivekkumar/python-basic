{
 "cells": [
  {
   "cell_type": "code",
   "execution_count": null,
   "id": "9b3279bc",
   "metadata": {},
   "outputs": [
    {
     "name": "stdout",
     "output_type": "stream",
     "text": [
      "e\n",
      "Pytho\n",
      "Pytho\n",
      "ython is a programming language\n",
      "Python is a programming language\n",
      "Python is a programming language\n"
     ]
    }
   ],
   "source": [
    "sentence = 'Python is a programming language'\n",
    "a = sentence\n",
    "b = sentence[:]\n",
    "print(sentence[-1])\n",
    "print(sentence[0:5])\n",
    "print(sentence[:5])\n",
    "print(sentence[1:])\n",
    "print(a)\n",
    "print(b)\n"
   ]
  },
  {
   "cell_type": "code",
   "execution_count": 7,
   "id": "0334ba3d",
   "metadata": {},
   "outputs": [
    {
     "name": "stdout",
     "output_type": "stream",
     "text": [
      "vivek [kumar] is a coder\n",
      "vivek [kumar] is a coder\n"
     ]
    }
   ],
   "source": [
    "first = 'vivek'\n",
    "last = 'kumar'\n",
    "\n",
    "message = first + \" [\" + last + \"] is a coder\"\n",
    "print(message)\n",
    "\n",
    "formatedstring_message = f\"{first} [{last}] is a coder\"\n",
    "print(formatedstring_message)"
   ]
  },
  {
   "cell_type": "code",
   "execution_count": 17,
   "id": "640144aa",
   "metadata": {},
   "outputs": [
    {
     "name": "stdout",
     "output_type": "stream",
     "text": [
      "20\n",
      "PYTHON FOR BEGINNERS\n",
      "python for beginners\n",
      "1\n",
      "Python for absolute beginners\n",
      "True\n"
     ]
    }
   ],
   "source": [
    "course = \"Python for beginners\"\n",
    "print(len(course))\n",
    "\n",
    "print(course.upper())\n",
    "print(course.lower())\n",
    "print(course.find(\"y\"))\n",
    "\n",
    "print(course.replace('for', 'for absolute'))\n",
    "print(\"Python\" in course)\n"
   ]
  },
  {
   "cell_type": "code",
   "execution_count": 18,
   "id": "d5d3c331",
   "metadata": {},
   "outputs": [
    {
     "name": "stdout",
     "output_type": "stream",
     "text": [
      "12\n",
      "8\n",
      "5.0\n",
      "5\n",
      "0\n"
     ]
    }
   ],
   "source": [
    "x = 10 \n",
    "sum = x+2\n",
    "sub = x-2\n",
    "div = x/2\n",
    "div_int = x//2\n",
    "div_remainder = x%2\n",
    "print(sum)\n",
    "print(sub)\n",
    "print(div)\n",
    "print(div_int)\n",
    "print(div_remainder)\n"
   ]
  },
  {
   "cell_type": "code",
   "execution_count": 19,
   "id": "adb8caab",
   "metadata": {},
   "outputs": [
    {
     "name": "stdout",
     "output_type": "stream",
     "text": [
      "22\n"
     ]
    }
   ],
   "source": [
    "x = 10+3*2**2\n",
    "print(x)"
   ]
  },
  {
   "cell_type": "code",
   "execution_count": 20,
   "id": "337ddf06",
   "metadata": {},
   "outputs": [
    {
     "name": "stdout",
     "output_type": "stream",
     "text": [
      "3\n",
      "2.9\n"
     ]
    }
   ],
   "source": [
    "x = 2.9\n",
    "print(round(x))\n",
    "print(abs(-2.9))"
   ]
  },
  {
   "cell_type": "code",
   "execution_count": 23,
   "id": "b465d8e5",
   "metadata": {},
   "outputs": [
    {
     "name": "stdout",
     "output_type": "stream",
     "text": [
      "Its a hot day.\n",
      "            drink more water.\n"
     ]
    }
   ],
   "source": [
    "Weather = int(input(\"enter your weather: \"))\n",
    "\n",
    "if Weather >= 30:\n",
    "    print('''Its a hot day.\n",
    "            drink more water.''')\n",
    "elif Weather<=20:\n",
    "    print('''Its a cold day.\n",
    "            wear warm clothes.''')\n",
    "else:\n",
    "     print('''Its a great day.\n",
    "            enjoy your day.''')\n"
   ]
  },
  {
   "cell_type": "code",
   "execution_count": 2,
   "id": "f1028607",
   "metadata": {},
   "outputs": [
    {
     "name": "stdout",
     "output_type": "stream",
     "text": [
      "good credit score.\n",
      "Has your credit is good. your down payment is 1.0\n"
     ]
    }
   ],
   "source": [
    "houseprice = int(input(\"Enter the price of house: \"))\n",
    "\n",
    "creditscore = int(input(\"enter your credit score: \"))\n",
    "\n",
    "if creditscore >350:\n",
    "    print(\"good credit score.\")\n",
    "    downpayment = houseprice * 0.1\n",
    "    statement= f\"Has your credit is good. your down payment is {downpayment}\"\n",
    "    print(statement)\n",
    "else:\n",
    "    downpayment = houseprice * 0.2\n",
    "    statement= f\"Has your credit is bad. your down payment is {downpayment}\"\n",
    "    print(statement)\n"
   ]
  },
  {
   "cell_type": "code",
   "execution_count": null,
   "id": "5b52f0d7",
   "metadata": {},
   "outputs": [],
   "source": []
  }
 ],
 "metadata": {
  "kernelspec": {
   "display_name": "base",
   "language": "python",
   "name": "python3"
  },
  "language_info": {
   "codemirror_mode": {
    "name": "ipython",
    "version": 3
   },
   "file_extension": ".py",
   "mimetype": "text/x-python",
   "name": "python",
   "nbconvert_exporter": "python",
   "pygments_lexer": "ipython3",
   "version": "3.12.4"
  }
 },
 "nbformat": 4,
 "nbformat_minor": 5
}
