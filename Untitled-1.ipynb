{
 "cells": [
  {
   "cell_type": "markdown",
   "metadata": {},
   "source": [
    "AIT 614 - Big Data Essentials\n",
    "Lab 2: NoSQL MongoDB with Python\n",
    "Purpose for students to learn PyMongo for Data Science\n",
    "Created by Dr. Liao\n",
    "Please type into your course section # and your full name:\n",
    "\n",
    "Course Section #:\n",
    "Student's Full Name:\n",
    "Please follow Dr. Liao's code examples/tutorials to complete these tasks:"
   ]
  },
  {
   "cell_type": "markdown",
   "metadata": {},
   "source": [
    "1. Install MongoDB <br>\n",
    "https://docs.mongodb.com/manual/installation/ <br>\n",
    "2. Install PyMongo"
   ]
  },
  {
   "cell_type": "code",
   "execution_count": 2,
   "metadata": {},
   "outputs": [
    {
     "name": "stdout",
     "output_type": "stream",
     "text": [
      "Requirement already satisfied: pymongo in /Users/vivekkumar/Documents/python_files/.venv/lib/python3.11/site-packages (4.11.1)\n",
      "Requirement already satisfied: dnspython<3.0.0,>=1.16.0 in /Users/vivekkumar/Documents/python_files/.venv/lib/python3.11/site-packages (from pymongo) (2.7.0)\n",
      "\n",
      "\u001b[1m[\u001b[0m\u001b[34;49mnotice\u001b[0m\u001b[1;39;49m]\u001b[0m\u001b[39;49m A new release of pip is available: \u001b[0m\u001b[31;49m24.2\u001b[0m\u001b[39;49m -> \u001b[0m\u001b[32;49m25.0.1\u001b[0m\n",
      "\u001b[1m[\u001b[0m\u001b[34;49mnotice\u001b[0m\u001b[1;39;49m]\u001b[0m\u001b[39;49m To update, run: \u001b[0m\u001b[32;49mpip install --upgrade pip\u001b[0m\n"
     ]
    }
   ],
   "source": [
    "!pip install pymongo"
   ]
  },
  {
   "cell_type": "markdown",
   "metadata": {},
   "source": [
    "Import Libaries"
   ]
  },
  {
   "cell_type": "code",
   "execution_count": 115,
   "metadata": {},
   "outputs": [],
   "source": [
    "import pymongo\n",
    "import pandas as pd\n",
    "import json"
   ]
  },
  {
   "cell_type": "markdown",
   "metadata": {},
   "source": [
    "Connect MongoDB"
   ]
  },
  {
   "cell_type": "code",
   "execution_count": 116,
   "metadata": {},
   "outputs": [],
   "source": [
    "client = pymongo.MongoClient(\"mongodb://localhost:27017/\")"
   ]
  },
  {
   "cell_type": "markdown",
   "metadata": {},
   "source": [
    "Load the CSV file\n"
   ]
  },
  {
   "cell_type": "code",
   "execution_count": 117,
   "metadata": {},
   "outputs": [
    {
     "data": {
      "text/html": [
       "<div>\n",
       "<style scoped>\n",
       "    .dataframe tbody tr th:only-of-type {\n",
       "        vertical-align: middle;\n",
       "    }\n",
       "\n",
       "    .dataframe tbody tr th {\n",
       "        vertical-align: top;\n",
       "    }\n",
       "\n",
       "    .dataframe thead th {\n",
       "        text-align: right;\n",
       "    }\n",
       "</style>\n",
       "<table border=\"1\" class=\"dataframe\">\n",
       "  <thead>\n",
       "    <tr style=\"text-align: right;\">\n",
       "      <th></th>\n",
       "      <th>Age</th>\n",
       "      <th>Attrition</th>\n",
       "      <th>BusinessTravel</th>\n",
       "      <th>DailyRate</th>\n",
       "      <th>Department</th>\n",
       "      <th>DistanceFromHome</th>\n",
       "      <th>Education</th>\n",
       "      <th>EducationField</th>\n",
       "      <th>EmployeeCount</th>\n",
       "      <th>EmployeeNumber</th>\n",
       "      <th>...</th>\n",
       "      <th>RelationshipSatisfaction</th>\n",
       "      <th>StandardHours</th>\n",
       "      <th>StockOptionLevel</th>\n",
       "      <th>TotalWorkingYears</th>\n",
       "      <th>TrainingTimesLastYear</th>\n",
       "      <th>WorkLifeBalance</th>\n",
       "      <th>YearsAtCompany</th>\n",
       "      <th>YearsInCurrentRole</th>\n",
       "      <th>YearsSinceLastPromotion</th>\n",
       "      <th>YearsWithCurrManager</th>\n",
       "    </tr>\n",
       "  </thead>\n",
       "  <tbody>\n",
       "    <tr>\n",
       "      <th>0</th>\n",
       "      <td>41</td>\n",
       "      <td>Yes</td>\n",
       "      <td>Travel_Rarely</td>\n",
       "      <td>1102</td>\n",
       "      <td>Sales</td>\n",
       "      <td>1</td>\n",
       "      <td>2</td>\n",
       "      <td>Life Sciences</td>\n",
       "      <td>1</td>\n",
       "      <td>1</td>\n",
       "      <td>...</td>\n",
       "      <td>1</td>\n",
       "      <td>80</td>\n",
       "      <td>0</td>\n",
       "      <td>8</td>\n",
       "      <td>0</td>\n",
       "      <td>1</td>\n",
       "      <td>6</td>\n",
       "      <td>4</td>\n",
       "      <td>0</td>\n",
       "      <td>5</td>\n",
       "    </tr>\n",
       "    <tr>\n",
       "      <th>1</th>\n",
       "      <td>49</td>\n",
       "      <td>No</td>\n",
       "      <td>Travel_Frequently</td>\n",
       "      <td>279</td>\n",
       "      <td>Research &amp; Development</td>\n",
       "      <td>8</td>\n",
       "      <td>1</td>\n",
       "      <td>Life Sciences</td>\n",
       "      <td>1</td>\n",
       "      <td>2</td>\n",
       "      <td>...</td>\n",
       "      <td>4</td>\n",
       "      <td>80</td>\n",
       "      <td>1</td>\n",
       "      <td>10</td>\n",
       "      <td>3</td>\n",
       "      <td>3</td>\n",
       "      <td>10</td>\n",
       "      <td>7</td>\n",
       "      <td>1</td>\n",
       "      <td>7</td>\n",
       "    </tr>\n",
       "    <tr>\n",
       "      <th>2</th>\n",
       "      <td>37</td>\n",
       "      <td>Yes</td>\n",
       "      <td>Travel_Rarely</td>\n",
       "      <td>1373</td>\n",
       "      <td>Research &amp; Development</td>\n",
       "      <td>2</td>\n",
       "      <td>2</td>\n",
       "      <td>Other</td>\n",
       "      <td>1</td>\n",
       "      <td>4</td>\n",
       "      <td>...</td>\n",
       "      <td>2</td>\n",
       "      <td>80</td>\n",
       "      <td>0</td>\n",
       "      <td>7</td>\n",
       "      <td>3</td>\n",
       "      <td>3</td>\n",
       "      <td>0</td>\n",
       "      <td>0</td>\n",
       "      <td>0</td>\n",
       "      <td>0</td>\n",
       "    </tr>\n",
       "    <tr>\n",
       "      <th>3</th>\n",
       "      <td>33</td>\n",
       "      <td>No</td>\n",
       "      <td>Travel_Frequently</td>\n",
       "      <td>1392</td>\n",
       "      <td>Research &amp; Development</td>\n",
       "      <td>3</td>\n",
       "      <td>4</td>\n",
       "      <td>Life Sciences</td>\n",
       "      <td>1</td>\n",
       "      <td>5</td>\n",
       "      <td>...</td>\n",
       "      <td>3</td>\n",
       "      <td>80</td>\n",
       "      <td>0</td>\n",
       "      <td>8</td>\n",
       "      <td>3</td>\n",
       "      <td>3</td>\n",
       "      <td>8</td>\n",
       "      <td>7</td>\n",
       "      <td>3</td>\n",
       "      <td>0</td>\n",
       "    </tr>\n",
       "    <tr>\n",
       "      <th>4</th>\n",
       "      <td>27</td>\n",
       "      <td>No</td>\n",
       "      <td>Travel_Rarely</td>\n",
       "      <td>591</td>\n",
       "      <td>Research &amp; Development</td>\n",
       "      <td>2</td>\n",
       "      <td>1</td>\n",
       "      <td>Medical</td>\n",
       "      <td>1</td>\n",
       "      <td>7</td>\n",
       "      <td>...</td>\n",
       "      <td>4</td>\n",
       "      <td>80</td>\n",
       "      <td>1</td>\n",
       "      <td>6</td>\n",
       "      <td>3</td>\n",
       "      <td>3</td>\n",
       "      <td>2</td>\n",
       "      <td>2</td>\n",
       "      <td>2</td>\n",
       "      <td>2</td>\n",
       "    </tr>\n",
       "  </tbody>\n",
       "</table>\n",
       "<p>5 rows × 35 columns</p>\n",
       "</div>"
      ],
      "text/plain": [
       "   Age Attrition     BusinessTravel  DailyRate              Department  \\\n",
       "0   41       Yes      Travel_Rarely       1102                   Sales   \n",
       "1   49        No  Travel_Frequently        279  Research & Development   \n",
       "2   37       Yes      Travel_Rarely       1373  Research & Development   \n",
       "3   33        No  Travel_Frequently       1392  Research & Development   \n",
       "4   27        No      Travel_Rarely        591  Research & Development   \n",
       "\n",
       "   DistanceFromHome  Education EducationField  EmployeeCount  EmployeeNumber  \\\n",
       "0                 1          2  Life Sciences              1               1   \n",
       "1                 8          1  Life Sciences              1               2   \n",
       "2                 2          2          Other              1               4   \n",
       "3                 3          4  Life Sciences              1               5   \n",
       "4                 2          1        Medical              1               7   \n",
       "\n",
       "   ...  RelationshipSatisfaction StandardHours  StockOptionLevel  \\\n",
       "0  ...                         1            80                 0   \n",
       "1  ...                         4            80                 1   \n",
       "2  ...                         2            80                 0   \n",
       "3  ...                         3            80                 0   \n",
       "4  ...                         4            80                 1   \n",
       "\n",
       "   TotalWorkingYears  TrainingTimesLastYear WorkLifeBalance  YearsAtCompany  \\\n",
       "0                  8                      0               1               6   \n",
       "1                 10                      3               3              10   \n",
       "2                  7                      3               3               0   \n",
       "3                  8                      3               3               8   \n",
       "4                  6                      3               3               2   \n",
       "\n",
       "  YearsInCurrentRole  YearsSinceLastPromotion  YearsWithCurrManager  \n",
       "0                  4                        0                     5  \n",
       "1                  7                        1                     7  \n",
       "2                  0                        0                     0  \n",
       "3                  7                        3                     0  \n",
       "4                  2                        2                     2  \n",
       "\n",
       "[5 rows x 35 columns]"
      ]
     },
     "execution_count": 117,
     "metadata": {},
     "output_type": "execute_result"
    }
   ],
   "source": [
    "df = pd.read_csv(\"/Users/vivekkumar/Downloads/ait_assignment.csv\")\n",
    "df.head(5)"
   ]
  },
  {
   "cell_type": "markdown",
   "metadata": {},
   "source": [
    "convert to Json\n",
    "\n"
   ]
  },
  {
   "cell_type": "code",
   "execution_count": 118,
   "metadata": {},
   "outputs": [
    {
     "data": {
      "text/plain": [
       "(1470, 35)"
      ]
     },
     "execution_count": 118,
     "metadata": {},
     "output_type": "execute_result"
    }
   ],
   "source": [
    "df.shape\n"
   ]
  },
  {
   "cell_type": "markdown",
   "metadata": {},
   "source": [
    "Creating a Database\n",
    "\n"
   ]
  },
  {
   "cell_type": "code",
   "execution_count": 119,
   "metadata": {},
   "outputs": [],
   "source": [
    "# convert to Json\n",
    "data = json.loads(df.to_json(orient='records'))"
   ]
  },
  {
   "cell_type": "markdown",
   "metadata": {},
   "source": [
    "Create a Collection\n"
   ]
  },
  {
   "cell_type": "code",
   "execution_count": 120,
   "metadata": {},
   "outputs": [
    {
     "data": {
      "text/plain": [
       "Database(MongoClient(host=['localhost:27017'], document_class=dict, tz_aware=False, connect=True), 'G01506786db')"
      ]
     },
     "execution_count": 120,
     "metadata": {},
     "output_type": "execute_result"
    }
   ],
   "source": [
    "mongo_db = client[\"G01506786db\"]\n",
    "mongo_db"
   ]
  },
  {
   "cell_type": "code",
   "execution_count": 121,
   "metadata": {},
   "outputs": [],
   "source": [
    "collection_name = \"Employees\"\n"
   ]
  },
  {
   "cell_type": "code",
   "execution_count": 122,
   "metadata": {},
   "outputs": [],
   "source": [
    "collection = mongo_db[collection_name]\n"
   ]
  },
  {
   "cell_type": "markdown",
   "metadata": {},
   "source": [
    "Insert the data into MongoDB Collection\n"
   ]
  },
  {
   "cell_type": "code",
   "execution_count": 123,
   "metadata": {},
   "outputs": [
    {
     "data": {
      "text/plain": [
       "InsertManyResult([ObjectId('67b29b66d56f91085f9157f9'), ObjectId('67b29b66d56f91085f9157fa'), ObjectId('67b29b66d56f91085f9157fb'), ObjectId('67b29b66d56f91085f9157fc'), ObjectId('67b29b66d56f91085f9157fd'), ObjectId('67b29b66d56f91085f9157fe'), ObjectId('67b29b66d56f91085f9157ff'), ObjectId('67b29b66d56f91085f915800'), ObjectId('67b29b66d56f91085f915801'), ObjectId('67b29b66d56f91085f915802'), ObjectId('67b29b66d56f91085f915803'), ObjectId('67b29b66d56f91085f915804'), ObjectId('67b29b66d56f91085f915805'), ObjectId('67b29b66d56f91085f915806'), ObjectId('67b29b66d56f91085f915807'), ObjectId('67b29b66d56f91085f915808'), ObjectId('67b29b66d56f91085f915809'), ObjectId('67b29b66d56f91085f91580a'), ObjectId('67b29b66d56f91085f91580b'), ObjectId('67b29b66d56f91085f91580c'), ObjectId('67b29b66d56f91085f91580d'), ObjectId('67b29b66d56f91085f91580e'), ObjectId('67b29b66d56f91085f91580f'), ObjectId('67b29b66d56f91085f915810'), ObjectId('67b29b66d56f91085f915811'), ObjectId('67b29b66d56f91085f915812'), ObjectId('67b29b66d56f91085f915813'), ObjectId('67b29b66d56f91085f915814'), ObjectId('67b29b66d56f91085f915815'), ObjectId('67b29b66d56f91085f915816'), ObjectId('67b29b66d56f91085f915817'), ObjectId('67b29b66d56f91085f915818'), ObjectId('67b29b66d56f91085f915819'), ObjectId('67b29b66d56f91085f91581a'), ObjectId('67b29b66d56f91085f91581b'), ObjectId('67b29b66d56f91085f91581c'), ObjectId('67b29b66d56f91085f91581d'), ObjectId('67b29b66d56f91085f91581e'), ObjectId('67b29b66d56f91085f91581f'), ObjectId('67b29b66d56f91085f915820'), ObjectId('67b29b66d56f91085f915821'), ObjectId('67b29b66d56f91085f915822'), ObjectId('67b29b66d56f91085f915823'), ObjectId('67b29b66d56f91085f915824'), ObjectId('67b29b66d56f91085f915825'), ObjectId('67b29b66d56f91085f915826'), ObjectId('67b29b66d56f91085f915827'), ObjectId('67b29b66d56f91085f915828'), ObjectId('67b29b66d56f91085f915829'), ObjectId('67b29b66d56f91085f91582a'), ObjectId('67b29b66d56f91085f91582b'), ObjectId('67b29b66d56f91085f91582c'), ObjectId('67b29b66d56f91085f91582d'), ObjectId('67b29b66d56f91085f91582e'), ObjectId('67b29b66d56f91085f91582f'), ObjectId('67b29b66d56f91085f915830'), ObjectId('67b29b66d56f91085f915831'), ObjectId('67b29b66d56f91085f915832'), ObjectId('67b29b66d56f91085f915833'), ObjectId('67b29b66d56f91085f915834'), ObjectId('67b29b66d56f91085f915835'), ObjectId('67b29b66d56f91085f915836'), ObjectId('67b29b66d56f91085f915837'), ObjectId('67b29b66d56f91085f915838'), ObjectId('67b29b66d56f91085f915839'), ObjectId('67b29b66d56f91085f91583a'), ObjectId('67b29b66d56f91085f91583b'), ObjectId('67b29b66d56f91085f91583c'), ObjectId('67b29b66d56f91085f91583d'), ObjectId('67b29b66d56f91085f91583e'), ObjectId('67b29b66d56f91085f91583f'), ObjectId('67b29b66d56f91085f915840'), ObjectId('67b29b66d56f91085f915841'), ObjectId('67b29b66d56f91085f915842'), ObjectId('67b29b66d56f91085f915843'), ObjectId('67b29b66d56f91085f915844'), ObjectId('67b29b66d56f91085f915845'), ObjectId('67b29b66d56f91085f915846'), ObjectId('67b29b66d56f91085f915847'), ObjectId('67b29b66d56f91085f915848'), ObjectId('67b29b66d56f91085f915849'), ObjectId('67b29b66d56f91085f91584a'), ObjectId('67b29b66d56f91085f91584b'), ObjectId('67b29b66d56f91085f91584c'), ObjectId('67b29b66d56f91085f91584d'), ObjectId('67b29b66d56f91085f91584e'), ObjectId('67b29b66d56f91085f91584f'), ObjectId('67b29b66d56f91085f915850'), ObjectId('67b29b66d56f91085f915851'), ObjectId('67b29b66d56f91085f915852'), ObjectId('67b29b66d56f91085f915853'), ObjectId('67b29b66d56f91085f915854'), ObjectId('67b29b66d56f91085f915855'), ObjectId('67b29b66d56f91085f915856'), ObjectId('67b29b66d56f91085f915857'), ObjectId('67b29b66d56f91085f915858'), ObjectId('67b29b66d56f91085f915859'), ObjectId('67b29b66d56f91085f91585a'), ObjectId('67b29b66d56f91085f91585b'), ObjectId('67b29b66d56f91085f91585c'), ObjectId('67b29b66d56f91085f91585d'), ObjectId('67b29b66d56f91085f91585e'), ObjectId('67b29b66d56f91085f91585f'), ObjectId('67b29b66d56f91085f915860'), ObjectId('67b29b66d56f91085f915861'), ObjectId('67b29b66d56f91085f915862'), ObjectId('67b29b66d56f91085f915863'), ObjectId('67b29b66d56f91085f915864'), ObjectId('67b29b66d56f91085f915865'), ObjectId('67b29b66d56f91085f915866'), ObjectId('67b29b66d56f91085f915867'), ObjectId('67b29b66d56f91085f915868'), ObjectId('67b29b66d56f91085f915869'), ObjectId('67b29b66d56f91085f91586a'), ObjectId('67b29b66d56f91085f91586b'), ObjectId('67b29b66d56f91085f91586c'), ObjectId('67b29b66d56f91085f91586d'), ObjectId('67b29b66d56f91085f91586e'), ObjectId('67b29b66d56f91085f91586f'), ObjectId('67b29b66d56f91085f915870'), ObjectId('67b29b66d56f91085f915871'), ObjectId('67b29b66d56f91085f915872'), ObjectId('67b29b66d56f91085f915873'), ObjectId('67b29b66d56f91085f915874'), ObjectId('67b29b66d56f91085f915875'), ObjectId('67b29b66d56f91085f915876'), ObjectId('67b29b66d56f91085f915877'), ObjectId('67b29b66d56f91085f915878'), ObjectId('67b29b66d56f91085f915879'), ObjectId('67b29b66d56f91085f91587a'), ObjectId('67b29b66d56f91085f91587b'), ObjectId('67b29b66d56f91085f91587c'), ObjectId('67b29b66d56f91085f91587d'), ObjectId('67b29b66d56f91085f91587e'), ObjectId('67b29b66d56f91085f91587f'), ObjectId('67b29b66d56f91085f915880'), ObjectId('67b29b66d56f91085f915881'), ObjectId('67b29b66d56f91085f915882'), ObjectId('67b29b66d56f91085f915883'), ObjectId('67b29b66d56f91085f915884'), ObjectId('67b29b66d56f91085f915885'), ObjectId('67b29b66d56f91085f915886'), ObjectId('67b29b66d56f91085f915887'), ObjectId('67b29b66d56f91085f915888'), ObjectId('67b29b66d56f91085f915889'), ObjectId('67b29b66d56f91085f91588a'), ObjectId('67b29b66d56f91085f91588b'), ObjectId('67b29b66d56f91085f91588c'), ObjectId('67b29b66d56f91085f91588d'), ObjectId('67b29b66d56f91085f91588e'), ObjectId('67b29b66d56f91085f91588f'), ObjectId('67b29b66d56f91085f915890'), ObjectId('67b29b66d56f91085f915891'), ObjectId('67b29b66d56f91085f915892'), ObjectId('67b29b66d56f91085f915893'), ObjectId('67b29b66d56f91085f915894'), ObjectId('67b29b66d56f91085f915895'), ObjectId('67b29b66d56f91085f915896'), ObjectId('67b29b66d56f91085f915897'), ObjectId('67b29b66d56f91085f915898'), ObjectId('67b29b66d56f91085f915899'), ObjectId('67b29b66d56f91085f91589a'), ObjectId('67b29b66d56f91085f91589b'), ObjectId('67b29b66d56f91085f91589c'), ObjectId('67b29b66d56f91085f91589d'), ObjectId('67b29b66d56f91085f91589e'), ObjectId('67b29b66d56f91085f91589f'), ObjectId('67b29b66d56f91085f9158a0'), ObjectId('67b29b66d56f91085f9158a1'), ObjectId('67b29b66d56f91085f9158a2'), ObjectId('67b29b66d56f91085f9158a3'), ObjectId('67b29b66d56f91085f9158a4'), ObjectId('67b29b66d56f91085f9158a5'), ObjectId('67b29b66d56f91085f9158a6'), ObjectId('67b29b66d56f91085f9158a7'), ObjectId('67b29b66d56f91085f9158a8'), ObjectId('67b29b66d56f91085f9158a9'), ObjectId('67b29b66d56f91085f9158aa'), ObjectId('67b29b66d56f91085f9158ab'), ObjectId('67b29b66d56f91085f9158ac'), ObjectId('67b29b66d56f91085f9158ad'), ObjectId('67b29b66d56f91085f9158ae'), ObjectId('67b29b66d56f91085f9158af'), ObjectId('67b29b66d56f91085f9158b0'), ObjectId('67b29b66d56f91085f9158b1'), ObjectId('67b29b66d56f91085f9158b2'), ObjectId('67b29b66d56f91085f9158b3'), ObjectId('67b29b66d56f91085f9158b4'), ObjectId('67b29b66d56f91085f9158b5'), ObjectId('67b29b66d56f91085f9158b6'), ObjectId('67b29b66d56f91085f9158b7'), ObjectId('67b29b66d56f91085f9158b8'), ObjectId('67b29b66d56f91085f9158b9'), ObjectId('67b29b66d56f91085f9158ba'), ObjectId('67b29b66d56f91085f9158bb'), ObjectId('67b29b66d56f91085f9158bc'), ObjectId('67b29b66d56f91085f9158bd'), ObjectId('67b29b66d56f91085f9158be'), ObjectId('67b29b66d56f91085f9158bf'), ObjectId('67b29b66d56f91085f9158c0'), ObjectId('67b29b66d56f91085f9158c1'), ObjectId('67b29b66d56f91085f9158c2'), ObjectId('67b29b66d56f91085f9158c3'), ObjectId('67b29b66d56f91085f9158c4'), ObjectId('67b29b66d56f91085f9158c5'), ObjectId('67b29b66d56f91085f9158c6'), ObjectId('67b29b66d56f91085f9158c7'), ObjectId('67b29b66d56f91085f9158c8'), ObjectId('67b29b66d56f91085f9158c9'), ObjectId('67b29b66d56f91085f9158ca'), ObjectId('67b29b66d56f91085f9158cb'), ObjectId('67b29b66d56f91085f9158cc'), ObjectId('67b29b66d56f91085f9158cd'), ObjectId('67b29b66d56f91085f9158ce'), ObjectId('67b29b66d56f91085f9158cf'), ObjectId('67b29b66d56f91085f9158d0'), ObjectId('67b29b66d56f91085f9158d1'), ObjectId('67b29b66d56f91085f9158d2'), ObjectId('67b29b66d56f91085f9158d3'), ObjectId('67b29b66d56f91085f9158d4'), ObjectId('67b29b66d56f91085f9158d5'), ObjectId('67b29b66d56f91085f9158d6'), ObjectId('67b29b66d56f91085f9158d7'), ObjectId('67b29b66d56f91085f9158d8'), ObjectId('67b29b66d56f91085f9158d9'), ObjectId('67b29b66d56f91085f9158da'), ObjectId('67b29b66d56f91085f9158db'), ObjectId('67b29b66d56f91085f9158dc'), ObjectId('67b29b66d56f91085f9158dd'), ObjectId('67b29b66d56f91085f9158de'), ObjectId('67b29b66d56f91085f9158df'), ObjectId('67b29b66d56f91085f9158e0'), ObjectId('67b29b66d56f91085f9158e1'), ObjectId('67b29b66d56f91085f9158e2'), ObjectId('67b29b66d56f91085f9158e3'), ObjectId('67b29b66d56f91085f9158e4'), ObjectId('67b29b66d56f91085f9158e5'), ObjectId('67b29b66d56f91085f9158e6'), ObjectId('67b29b66d56f91085f9158e7'), ObjectId('67b29b66d56f91085f9158e8'), ObjectId('67b29b66d56f91085f9158e9'), ObjectId('67b29b66d56f91085f9158ea'), ObjectId('67b29b66d56f91085f9158eb'), ObjectId('67b29b66d56f91085f9158ec'), ObjectId('67b29b66d56f91085f9158ed'), ObjectId('67b29b66d56f91085f9158ee'), ObjectId('67b29b66d56f91085f9158ef'), ObjectId('67b29b66d56f91085f9158f0'), ObjectId('67b29b66d56f91085f9158f1'), ObjectId('67b29b66d56f91085f9158f2'), ObjectId('67b29b66d56f91085f9158f3'), ObjectId('67b29b66d56f91085f9158f4'), ObjectId('67b29b66d56f91085f9158f5'), ObjectId('67b29b66d56f91085f9158f6'), ObjectId('67b29b66d56f91085f9158f7'), ObjectId('67b29b66d56f91085f9158f8'), ObjectId('67b29b66d56f91085f9158f9'), ObjectId('67b29b66d56f91085f9158fa'), ObjectId('67b29b66d56f91085f9158fb'), ObjectId('67b29b66d56f91085f9158fc'), ObjectId('67b29b66d56f91085f9158fd'), ObjectId('67b29b66d56f91085f9158fe'), ObjectId('67b29b66d56f91085f9158ff'), ObjectId('67b29b66d56f91085f915900'), ObjectId('67b29b66d56f91085f915901'), ObjectId('67b29b66d56f91085f915902'), ObjectId('67b29b66d56f91085f915903'), ObjectId('67b29b66d56f91085f915904'), ObjectId('67b29b66d56f91085f915905'), ObjectId('67b29b66d56f91085f915906'), ObjectId('67b29b66d56f91085f915907'), ObjectId('67b29b66d56f91085f915908'), ObjectId('67b29b66d56f91085f915909'), ObjectId('67b29b66d56f91085f91590a'), ObjectId('67b29b66d56f91085f91590b'), ObjectId('67b29b66d56f91085f91590c'), ObjectId('67b29b66d56f91085f91590d'), ObjectId('67b29b66d56f91085f91590e'), ObjectId('67b29b66d56f91085f91590f'), ObjectId('67b29b66d56f91085f915910'), ObjectId('67b29b66d56f91085f915911'), ObjectId('67b29b66d56f91085f915912'), ObjectId('67b29b66d56f91085f915913'), ObjectId('67b29b66d56f91085f915914'), ObjectId('67b29b66d56f91085f915915'), ObjectId('67b29b66d56f91085f915916'), ObjectId('67b29b66d56f91085f915917'), ObjectId('67b29b66d56f91085f915918'), ObjectId('67b29b66d56f91085f915919'), ObjectId('67b29b66d56f91085f91591a'), ObjectId('67b29b66d56f91085f91591b'), ObjectId('67b29b66d56f91085f91591c'), ObjectId('67b29b66d56f91085f91591d'), ObjectId('67b29b66d56f91085f91591e'), ObjectId('67b29b66d56f91085f91591f'), ObjectId('67b29b66d56f91085f915920'), ObjectId('67b29b66d56f91085f915921'), ObjectId('67b29b66d56f91085f915922'), ObjectId('67b29b66d56f91085f915923'), ObjectId('67b29b66d56f91085f915924'), ObjectId('67b29b66d56f91085f915925'), ObjectId('67b29b66d56f91085f915926'), ObjectId('67b29b66d56f91085f915927'), ObjectId('67b29b66d56f91085f915928'), ObjectId('67b29b66d56f91085f915929'), ObjectId('67b29b66d56f91085f91592a'), ObjectId('67b29b66d56f91085f91592b'), ObjectId('67b29b66d56f91085f91592c'), ObjectId('67b29b66d56f91085f91592d'), ObjectId('67b29b66d56f91085f91592e'), ObjectId('67b29b66d56f91085f91592f'), ObjectId('67b29b66d56f91085f915930'), ObjectId('67b29b66d56f91085f915931'), ObjectId('67b29b66d56f91085f915932'), ObjectId('67b29b66d56f91085f915933'), ObjectId('67b29b66d56f91085f915934'), ObjectId('67b29b66d56f91085f915935'), ObjectId('67b29b66d56f91085f915936'), ObjectId('67b29b66d56f91085f915937'), ObjectId('67b29b66d56f91085f915938'), ObjectId('67b29b66d56f91085f915939'), ObjectId('67b29b66d56f91085f91593a'), ObjectId('67b29b66d56f91085f91593b'), ObjectId('67b29b66d56f91085f91593c'), ObjectId('67b29b66d56f91085f91593d'), ObjectId('67b29b66d56f91085f91593e'), ObjectId('67b29b66d56f91085f91593f'), ObjectId('67b29b66d56f91085f915940'), ObjectId('67b29b66d56f91085f915941'), ObjectId('67b29b66d56f91085f915942'), ObjectId('67b29b66d56f91085f915943'), ObjectId('67b29b66d56f91085f915944'), ObjectId('67b29b66d56f91085f915945'), ObjectId('67b29b66d56f91085f915946'), ObjectId('67b29b66d56f91085f915947'), ObjectId('67b29b66d56f91085f915948'), ObjectId('67b29b66d56f91085f915949'), ObjectId('67b29b66d56f91085f91594a'), ObjectId('67b29b66d56f91085f91594b'), ObjectId('67b29b66d56f91085f91594c'), ObjectId('67b29b66d56f91085f91594d'), ObjectId('67b29b66d56f91085f91594e'), ObjectId('67b29b66d56f91085f91594f'), ObjectId('67b29b66d56f91085f915950'), ObjectId('67b29b66d56f91085f915951'), ObjectId('67b29b66d56f91085f915952'), ObjectId('67b29b66d56f91085f915953'), ObjectId('67b29b66d56f91085f915954'), ObjectId('67b29b66d56f91085f915955'), ObjectId('67b29b66d56f91085f915956'), ObjectId('67b29b66d56f91085f915957'), ObjectId('67b29b66d56f91085f915958'), ObjectId('67b29b66d56f91085f915959'), ObjectId('67b29b66d56f91085f91595a'), ObjectId('67b29b66d56f91085f91595b'), ObjectId('67b29b66d56f91085f91595c'), ObjectId('67b29b66d56f91085f91595d'), ObjectId('67b29b66d56f91085f91595e'), ObjectId('67b29b66d56f91085f91595f'), ObjectId('67b29b66d56f91085f915960'), ObjectId('67b29b66d56f91085f915961'), ObjectId('67b29b66d56f91085f915962'), ObjectId('67b29b66d56f91085f915963'), ObjectId('67b29b66d56f91085f915964'), ObjectId('67b29b66d56f91085f915965'), ObjectId('67b29b66d56f91085f915966'), ObjectId('67b29b66d56f91085f915967'), ObjectId('67b29b66d56f91085f915968'), ObjectId('67b29b66d56f91085f915969'), ObjectId('67b29b66d56f91085f91596a'), ObjectId('67b29b66d56f91085f91596b'), ObjectId('67b29b66d56f91085f91596c'), ObjectId('67b29b66d56f91085f91596d'), ObjectId('67b29b66d56f91085f91596e'), ObjectId('67b29b66d56f91085f91596f'), ObjectId('67b29b66d56f91085f915970'), ObjectId('67b29b66d56f91085f915971'), ObjectId('67b29b66d56f91085f915972'), ObjectId('67b29b66d56f91085f915973'), ObjectId('67b29b66d56f91085f915974'), ObjectId('67b29b66d56f91085f915975'), ObjectId('67b29b66d56f91085f915976'), ObjectId('67b29b66d56f91085f915977'), ObjectId('67b29b66d56f91085f915978'), ObjectId('67b29b66d56f91085f915979'), ObjectId('67b29b66d56f91085f91597a'), ObjectId('67b29b66d56f91085f91597b'), ObjectId('67b29b66d56f91085f91597c'), ObjectId('67b29b66d56f91085f91597d'), ObjectId('67b29b66d56f91085f91597e'), ObjectId('67b29b66d56f91085f91597f'), ObjectId('67b29b66d56f91085f915980'), ObjectId('67b29b66d56f91085f915981'), ObjectId('67b29b66d56f91085f915982'), ObjectId('67b29b66d56f91085f915983'), ObjectId('67b29b66d56f91085f915984'), ObjectId('67b29b66d56f91085f915985'), ObjectId('67b29b66d56f91085f915986'), ObjectId('67b29b66d56f91085f915987'), ObjectId('67b29b66d56f91085f915988'), ObjectId('67b29b66d56f91085f915989'), ObjectId('67b29b66d56f91085f91598a'), ObjectId('67b29b66d56f91085f91598b'), ObjectId('67b29b66d56f91085f91598c'), ObjectId('67b29b66d56f91085f91598d'), ObjectId('67b29b66d56f91085f91598e'), ObjectId('67b29b66d56f91085f91598f'), ObjectId('67b29b66d56f91085f915990'), ObjectId('67b29b66d56f91085f915991'), ObjectId('67b29b66d56f91085f915992'), ObjectId('67b29b66d56f91085f915993'), ObjectId('67b29b66d56f91085f915994'), ObjectId('67b29b66d56f91085f915995'), ObjectId('67b29b66d56f91085f915996'), ObjectId('67b29b66d56f91085f915997'), ObjectId('67b29b66d56f91085f915998'), ObjectId('67b29b66d56f91085f915999'), ObjectId('67b29b66d56f91085f91599a'), ObjectId('67b29b66d56f91085f91599b'), ObjectId('67b29b66d56f91085f91599c'), ObjectId('67b29b66d56f91085f91599d'), ObjectId('67b29b66d56f91085f91599e'), ObjectId('67b29b66d56f91085f91599f'), ObjectId('67b29b66d56f91085f9159a0'), ObjectId('67b29b66d56f91085f9159a1'), ObjectId('67b29b66d56f91085f9159a2'), ObjectId('67b29b66d56f91085f9159a3'), ObjectId('67b29b66d56f91085f9159a4'), ObjectId('67b29b66d56f91085f9159a5'), ObjectId('67b29b66d56f91085f9159a6'), ObjectId('67b29b66d56f91085f9159a7'), ObjectId('67b29b66d56f91085f9159a8'), ObjectId('67b29b66d56f91085f9159a9'), ObjectId('67b29b66d56f91085f9159aa'), ObjectId('67b29b66d56f91085f9159ab'), ObjectId('67b29b66d56f91085f9159ac'), ObjectId('67b29b66d56f91085f9159ad'), ObjectId('67b29b66d56f91085f9159ae'), ObjectId('67b29b66d56f91085f9159af'), ObjectId('67b29b66d56f91085f9159b0'), ObjectId('67b29b66d56f91085f9159b1'), ObjectId('67b29b66d56f91085f9159b2'), ObjectId('67b29b66d56f91085f9159b3'), ObjectId('67b29b66d56f91085f9159b4'), ObjectId('67b29b66d56f91085f9159b5'), ObjectId('67b29b66d56f91085f9159b6'), ObjectId('67b29b66d56f91085f9159b7'), ObjectId('67b29b66d56f91085f9159b8'), ObjectId('67b29b66d56f91085f9159b9'), ObjectId('67b29b66d56f91085f9159ba'), ObjectId('67b29b66d56f91085f9159bb'), ObjectId('67b29b66d56f91085f9159bc'), ObjectId('67b29b66d56f91085f9159bd'), ObjectId('67b29b66d56f91085f9159be'), ObjectId('67b29b66d56f91085f9159bf'), ObjectId('67b29b66d56f91085f9159c0'), ObjectId('67b29b66d56f91085f9159c1'), ObjectId('67b29b66d56f91085f9159c2'), ObjectId('67b29b66d56f91085f9159c3'), ObjectId('67b29b66d56f91085f9159c4'), ObjectId('67b29b66d56f91085f9159c5'), ObjectId('67b29b66d56f91085f9159c6'), ObjectId('67b29b66d56f91085f9159c7'), ObjectId('67b29b66d56f91085f9159c8'), ObjectId('67b29b66d56f91085f9159c9'), ObjectId('67b29b66d56f91085f9159ca'), ObjectId('67b29b66d56f91085f9159cb'), ObjectId('67b29b66d56f91085f9159cc'), ObjectId('67b29b66d56f91085f9159cd'), ObjectId('67b29b66d56f91085f9159ce'), ObjectId('67b29b66d56f91085f9159cf'), ObjectId('67b29b66d56f91085f9159d0'), ObjectId('67b29b66d56f91085f9159d1'), ObjectId('67b29b66d56f91085f9159d2'), ObjectId('67b29b66d56f91085f9159d3'), ObjectId('67b29b66d56f91085f9159d4'), ObjectId('67b29b66d56f91085f9159d5'), ObjectId('67b29b66d56f91085f9159d6'), ObjectId('67b29b66d56f91085f9159d7'), ObjectId('67b29b66d56f91085f9159d8'), ObjectId('67b29b66d56f91085f9159d9'), ObjectId('67b29b66d56f91085f9159da'), ObjectId('67b29b66d56f91085f9159db'), ObjectId('67b29b66d56f91085f9159dc'), ObjectId('67b29b66d56f91085f9159dd'), ObjectId('67b29b66d56f91085f9159de'), ObjectId('67b29b66d56f91085f9159df'), ObjectId('67b29b66d56f91085f9159e0'), ObjectId('67b29b66d56f91085f9159e1'), ObjectId('67b29b66d56f91085f9159e2'), ObjectId('67b29b66d56f91085f9159e3'), ObjectId('67b29b66d56f91085f9159e4'), ObjectId('67b29b66d56f91085f9159e5'), ObjectId('67b29b66d56f91085f9159e6'), ObjectId('67b29b66d56f91085f9159e7'), ObjectId('67b29b66d56f91085f9159e8'), ObjectId('67b29b66d56f91085f9159e9'), ObjectId('67b29b66d56f91085f9159ea'), ObjectId('67b29b66d56f91085f9159eb'), ObjectId('67b29b66d56f91085f9159ec'), ObjectId('67b29b66d56f91085f9159ed'), ObjectId('67b29b66d56f91085f9159ee'), ObjectId('67b29b66d56f91085f9159ef'), ObjectId('67b29b66d56f91085f9159f0'), ObjectId('67b29b66d56f91085f9159f1'), ObjectId('67b29b66d56f91085f9159f2'), ObjectId('67b29b66d56f91085f9159f3'), ObjectId('67b29b66d56f91085f9159f4'), ObjectId('67b29b66d56f91085f9159f5'), ObjectId('67b29b66d56f91085f9159f6'), ObjectId('67b29b66d56f91085f9159f7'), ObjectId('67b29b66d56f91085f9159f8'), ObjectId('67b29b66d56f91085f9159f9'), ObjectId('67b29b66d56f91085f9159fa'), ObjectId('67b29b66d56f91085f9159fb'), ObjectId('67b29b66d56f91085f9159fc'), ObjectId('67b29b66d56f91085f9159fd'), ObjectId('67b29b66d56f91085f9159fe'), ObjectId('67b29b66d56f91085f9159ff'), ObjectId('67b29b66d56f91085f915a00'), ObjectId('67b29b66d56f91085f915a01'), ObjectId('67b29b66d56f91085f915a02'), ObjectId('67b29b66d56f91085f915a03'), ObjectId('67b29b66d56f91085f915a04'), ObjectId('67b29b66d56f91085f915a05'), ObjectId('67b29b66d56f91085f915a06'), ObjectId('67b29b66d56f91085f915a07'), ObjectId('67b29b66d56f91085f915a08'), ObjectId('67b29b66d56f91085f915a09'), ObjectId('67b29b66d56f91085f915a0a'), ObjectId('67b29b66d56f91085f915a0b'), ObjectId('67b29b66d56f91085f915a0c'), ObjectId('67b29b66d56f91085f915a0d'), ObjectId('67b29b66d56f91085f915a0e'), ObjectId('67b29b66d56f91085f915a0f'), ObjectId('67b29b66d56f91085f915a10'), ObjectId('67b29b66d56f91085f915a11'), ObjectId('67b29b66d56f91085f915a12'), ObjectId('67b29b66d56f91085f915a13'), ObjectId('67b29b66d56f91085f915a14'), ObjectId('67b29b66d56f91085f915a15'), ObjectId('67b29b66d56f91085f915a16'), ObjectId('67b29b66d56f91085f915a17'), ObjectId('67b29b66d56f91085f915a18'), ObjectId('67b29b66d56f91085f915a19'), ObjectId('67b29b66d56f91085f915a1a'), ObjectId('67b29b66d56f91085f915a1b'), ObjectId('67b29b66d56f91085f915a1c'), ObjectId('67b29b66d56f91085f915a1d'), ObjectId('67b29b66d56f91085f915a1e'), ObjectId('67b29b66d56f91085f915a1f'), ObjectId('67b29b66d56f91085f915a20'), ObjectId('67b29b66d56f91085f915a21'), ObjectId('67b29b66d56f91085f915a22'), ObjectId('67b29b66d56f91085f915a23'), ObjectId('67b29b66d56f91085f915a24'), ObjectId('67b29b66d56f91085f915a25'), ObjectId('67b29b66d56f91085f915a26'), ObjectId('67b29b66d56f91085f915a27'), ObjectId('67b29b66d56f91085f915a28'), ObjectId('67b29b66d56f91085f915a29'), ObjectId('67b29b66d56f91085f915a2a'), ObjectId('67b29b66d56f91085f915a2b'), ObjectId('67b29b66d56f91085f915a2c'), ObjectId('67b29b66d56f91085f915a2d'), ObjectId('67b29b66d56f91085f915a2e'), ObjectId('67b29b66d56f91085f915a2f'), ObjectId('67b29b66d56f91085f915a30'), ObjectId('67b29b66d56f91085f915a31'), ObjectId('67b29b66d56f91085f915a32'), ObjectId('67b29b66d56f91085f915a33'), ObjectId('67b29b66d56f91085f915a34'), ObjectId('67b29b66d56f91085f915a35'), ObjectId('67b29b66d56f91085f915a36'), ObjectId('67b29b66d56f91085f915a37'), ObjectId('67b29b66d56f91085f915a38'), ObjectId('67b29b66d56f91085f915a39'), ObjectId('67b29b66d56f91085f915a3a'), ObjectId('67b29b66d56f91085f915a3b'), ObjectId('67b29b66d56f91085f915a3c'), ObjectId('67b29b66d56f91085f915a3d'), ObjectId('67b29b66d56f91085f915a3e'), ObjectId('67b29b66d56f91085f915a3f'), ObjectId('67b29b66d56f91085f915a40'), ObjectId('67b29b66d56f91085f915a41'), ObjectId('67b29b66d56f91085f915a42'), ObjectId('67b29b66d56f91085f915a43'), ObjectId('67b29b66d56f91085f915a44'), ObjectId('67b29b66d56f91085f915a45'), ObjectId('67b29b66d56f91085f915a46'), ObjectId('67b29b66d56f91085f915a47'), ObjectId('67b29b66d56f91085f915a48'), ObjectId('67b29b66d56f91085f915a49'), ObjectId('67b29b66d56f91085f915a4a'), ObjectId('67b29b66d56f91085f915a4b'), ObjectId('67b29b66d56f91085f915a4c'), ObjectId('67b29b66d56f91085f915a4d'), ObjectId('67b29b66d56f91085f915a4e'), ObjectId('67b29b66d56f91085f915a4f'), ObjectId('67b29b66d56f91085f915a50'), ObjectId('67b29b66d56f91085f915a51'), ObjectId('67b29b66d56f91085f915a52'), ObjectId('67b29b66d56f91085f915a53'), ObjectId('67b29b66d56f91085f915a54'), ObjectId('67b29b66d56f91085f915a55'), ObjectId('67b29b66d56f91085f915a56'), ObjectId('67b29b66d56f91085f915a57'), ObjectId('67b29b66d56f91085f915a58'), ObjectId('67b29b66d56f91085f915a59'), ObjectId('67b29b66d56f91085f915a5a'), ObjectId('67b29b66d56f91085f915a5b'), ObjectId('67b29b66d56f91085f915a5c'), ObjectId('67b29b66d56f91085f915a5d'), ObjectId('67b29b66d56f91085f915a5e'), ObjectId('67b29b66d56f91085f915a5f'), ObjectId('67b29b66d56f91085f915a60'), ObjectId('67b29b66d56f91085f915a61'), ObjectId('67b29b66d56f91085f915a62'), ObjectId('67b29b66d56f91085f915a63'), ObjectId('67b29b66d56f91085f915a64'), ObjectId('67b29b66d56f91085f915a65'), ObjectId('67b29b66d56f91085f915a66'), ObjectId('67b29b66d56f91085f915a67'), ObjectId('67b29b66d56f91085f915a68'), ObjectId('67b29b66d56f91085f915a69'), ObjectId('67b29b66d56f91085f915a6a'), ObjectId('67b29b66d56f91085f915a6b'), ObjectId('67b29b66d56f91085f915a6c'), ObjectId('67b29b66d56f91085f915a6d'), ObjectId('67b29b66d56f91085f915a6e'), ObjectId('67b29b66d56f91085f915a6f'), ObjectId('67b29b66d56f91085f915a70'), ObjectId('67b29b66d56f91085f915a71'), ObjectId('67b29b66d56f91085f915a72'), ObjectId('67b29b66d56f91085f915a73'), ObjectId('67b29b66d56f91085f915a74'), ObjectId('67b29b66d56f91085f915a75'), ObjectId('67b29b66d56f91085f915a76'), ObjectId('67b29b66d56f91085f915a77'), ObjectId('67b29b66d56f91085f915a78'), ObjectId('67b29b66d56f91085f915a79'), ObjectId('67b29b66d56f91085f915a7a'), ObjectId('67b29b66d56f91085f915a7b'), ObjectId('67b29b66d56f91085f915a7c'), ObjectId('67b29b66d56f91085f915a7d'), ObjectId('67b29b66d56f91085f915a7e'), ObjectId('67b29b66d56f91085f915a7f'), ObjectId('67b29b66d56f91085f915a80'), ObjectId('67b29b66d56f91085f915a81'), ObjectId('67b29b66d56f91085f915a82'), ObjectId('67b29b66d56f91085f915a83'), ObjectId('67b29b66d56f91085f915a84'), ObjectId('67b29b66d56f91085f915a85'), ObjectId('67b29b66d56f91085f915a86'), ObjectId('67b29b66d56f91085f915a87'), ObjectId('67b29b66d56f91085f915a88'), ObjectId('67b29b66d56f91085f915a89'), ObjectId('67b29b66d56f91085f915a8a'), ObjectId('67b29b66d56f91085f915a8b'), ObjectId('67b29b66d56f91085f915a8c'), ObjectId('67b29b66d56f91085f915a8d'), ObjectId('67b29b66d56f91085f915a8e'), ObjectId('67b29b66d56f91085f915a8f'), ObjectId('67b29b66d56f91085f915a90'), ObjectId('67b29b66d56f91085f915a91'), ObjectId('67b29b66d56f91085f915a92'), ObjectId('67b29b66d56f91085f915a93'), ObjectId('67b29b66d56f91085f915a94'), ObjectId('67b29b66d56f91085f915a95'), ObjectId('67b29b66d56f91085f915a96'), ObjectId('67b29b66d56f91085f915a97'), ObjectId('67b29b66d56f91085f915a98'), ObjectId('67b29b66d56f91085f915a99'), ObjectId('67b29b66d56f91085f915a9a'), ObjectId('67b29b66d56f91085f915a9b'), ObjectId('67b29b66d56f91085f915a9c'), ObjectId('67b29b66d56f91085f915a9d'), ObjectId('67b29b66d56f91085f915a9e'), ObjectId('67b29b66d56f91085f915a9f'), ObjectId('67b29b66d56f91085f915aa0'), ObjectId('67b29b66d56f91085f915aa1'), ObjectId('67b29b66d56f91085f915aa2'), ObjectId('67b29b66d56f91085f915aa3'), ObjectId('67b29b66d56f91085f915aa4'), ObjectId('67b29b66d56f91085f915aa5'), ObjectId('67b29b66d56f91085f915aa6'), ObjectId('67b29b66d56f91085f915aa7'), ObjectId('67b29b66d56f91085f915aa8'), ObjectId('67b29b66d56f91085f915aa9'), ObjectId('67b29b66d56f91085f915aaa'), ObjectId('67b29b66d56f91085f915aab'), ObjectId('67b29b66d56f91085f915aac'), ObjectId('67b29b66d56f91085f915aad'), ObjectId('67b29b66d56f91085f915aae'), ObjectId('67b29b66d56f91085f915aaf'), ObjectId('67b29b66d56f91085f915ab0'), ObjectId('67b29b66d56f91085f915ab1'), ObjectId('67b29b66d56f91085f915ab2'), ObjectId('67b29b66d56f91085f915ab3'), ObjectId('67b29b66d56f91085f915ab4'), ObjectId('67b29b66d56f91085f915ab5'), ObjectId('67b29b66d56f91085f915ab6'), ObjectId('67b29b66d56f91085f915ab7'), ObjectId('67b29b66d56f91085f915ab8'), ObjectId('67b29b66d56f91085f915ab9'), ObjectId('67b29b66d56f91085f915aba'), ObjectId('67b29b66d56f91085f915abb'), ObjectId('67b29b66d56f91085f915abc'), ObjectId('67b29b66d56f91085f915abd'), ObjectId('67b29b66d56f91085f915abe'), ObjectId('67b29b66d56f91085f915abf'), ObjectId('67b29b66d56f91085f915ac0'), ObjectId('67b29b66d56f91085f915ac1'), ObjectId('67b29b66d56f91085f915ac2'), ObjectId('67b29b66d56f91085f915ac3'), ObjectId('67b29b66d56f91085f915ac4'), ObjectId('67b29b66d56f91085f915ac5'), ObjectId('67b29b66d56f91085f915ac6'), ObjectId('67b29b66d56f91085f915ac7'), ObjectId('67b29b66d56f91085f915ac8'), ObjectId('67b29b66d56f91085f915ac9'), ObjectId('67b29b66d56f91085f915aca'), ObjectId('67b29b66d56f91085f915acb'), ObjectId('67b29b66d56f91085f915acc'), ObjectId('67b29b66d56f91085f915acd'), ObjectId('67b29b66d56f91085f915ace'), ObjectId('67b29b66d56f91085f915acf'), ObjectId('67b29b66d56f91085f915ad0'), ObjectId('67b29b66d56f91085f915ad1'), ObjectId('67b29b66d56f91085f915ad2'), ObjectId('67b29b66d56f91085f915ad3'), ObjectId('67b29b66d56f91085f915ad4'), ObjectId('67b29b66d56f91085f915ad5'), ObjectId('67b29b66d56f91085f915ad6'), ObjectId('67b29b66d56f91085f915ad7'), ObjectId('67b29b66d56f91085f915ad8'), ObjectId('67b29b66d56f91085f915ad9'), ObjectId('67b29b66d56f91085f915ada'), ObjectId('67b29b66d56f91085f915adb'), ObjectId('67b29b66d56f91085f915adc'), ObjectId('67b29b66d56f91085f915add'), ObjectId('67b29b66d56f91085f915ade'), ObjectId('67b29b66d56f91085f915adf'), ObjectId('67b29b66d56f91085f915ae0'), ObjectId('67b29b66d56f91085f915ae1'), ObjectId('67b29b66d56f91085f915ae2'), ObjectId('67b29b66d56f91085f915ae3'), ObjectId('67b29b66d56f91085f915ae4'), ObjectId('67b29b66d56f91085f915ae5'), ObjectId('67b29b66d56f91085f915ae6'), ObjectId('67b29b66d56f91085f915ae7'), ObjectId('67b29b66d56f91085f915ae8'), ObjectId('67b29b66d56f91085f915ae9'), ObjectId('67b29b66d56f91085f915aea'), ObjectId('67b29b66d56f91085f915aeb'), ObjectId('67b29b66d56f91085f915aec'), ObjectId('67b29b66d56f91085f915aed'), ObjectId('67b29b66d56f91085f915aee'), ObjectId('67b29b66d56f91085f915aef'), ObjectId('67b29b66d56f91085f915af0'), ObjectId('67b29b66d56f91085f915af1'), ObjectId('67b29b66d56f91085f915af2'), ObjectId('67b29b66d56f91085f915af3'), ObjectId('67b29b66d56f91085f915af4'), ObjectId('67b29b66d56f91085f915af5'), ObjectId('67b29b66d56f91085f915af6'), ObjectId('67b29b66d56f91085f915af7'), ObjectId('67b29b66d56f91085f915af8'), ObjectId('67b29b66d56f91085f915af9'), ObjectId('67b29b66d56f91085f915afa'), ObjectId('67b29b66d56f91085f915afb'), ObjectId('67b29b66d56f91085f915afc'), ObjectId('67b29b66d56f91085f915afd'), ObjectId('67b29b66d56f91085f915afe'), ObjectId('67b29b66d56f91085f915aff'), ObjectId('67b29b66d56f91085f915b00'), ObjectId('67b29b66d56f91085f915b01'), ObjectId('67b29b66d56f91085f915b02'), ObjectId('67b29b66d56f91085f915b03'), ObjectId('67b29b66d56f91085f915b04'), ObjectId('67b29b66d56f91085f915b05'), ObjectId('67b29b66d56f91085f915b06'), ObjectId('67b29b66d56f91085f915b07'), ObjectId('67b29b66d56f91085f915b08'), ObjectId('67b29b66d56f91085f915b09'), ObjectId('67b29b66d56f91085f915b0a'), ObjectId('67b29b66d56f91085f915b0b'), ObjectId('67b29b66d56f91085f915b0c'), ObjectId('67b29b66d56f91085f915b0d'), ObjectId('67b29b66d56f91085f915b0e'), ObjectId('67b29b66d56f91085f915b0f'), ObjectId('67b29b66d56f91085f915b10'), ObjectId('67b29b66d56f91085f915b11'), ObjectId('67b29b66d56f91085f915b12'), ObjectId('67b29b66d56f91085f915b13'), ObjectId('67b29b66d56f91085f915b14'), ObjectId('67b29b66d56f91085f915b15'), ObjectId('67b29b66d56f91085f915b16'), ObjectId('67b29b66d56f91085f915b17'), ObjectId('67b29b66d56f91085f915b18'), ObjectId('67b29b66d56f91085f915b19'), ObjectId('67b29b66d56f91085f915b1a'), ObjectId('67b29b66d56f91085f915b1b'), ObjectId('67b29b66d56f91085f915b1c'), ObjectId('67b29b66d56f91085f915b1d'), ObjectId('67b29b66d56f91085f915b1e'), ObjectId('67b29b66d56f91085f915b1f'), ObjectId('67b29b66d56f91085f915b20'), ObjectId('67b29b66d56f91085f915b21'), ObjectId('67b29b66d56f91085f915b22'), ObjectId('67b29b66d56f91085f915b23'), ObjectId('67b29b66d56f91085f915b24'), ObjectId('67b29b66d56f91085f915b25'), ObjectId('67b29b66d56f91085f915b26'), ObjectId('67b29b66d56f91085f915b27'), ObjectId('67b29b66d56f91085f915b28'), ObjectId('67b29b66d56f91085f915b29'), ObjectId('67b29b66d56f91085f915b2a'), ObjectId('67b29b66d56f91085f915b2b'), ObjectId('67b29b66d56f91085f915b2c'), ObjectId('67b29b66d56f91085f915b2d'), ObjectId('67b29b66d56f91085f915b2e'), ObjectId('67b29b66d56f91085f915b2f'), ObjectId('67b29b66d56f91085f915b30'), ObjectId('67b29b66d56f91085f915b31'), ObjectId('67b29b66d56f91085f915b32'), ObjectId('67b29b66d56f91085f915b33'), ObjectId('67b29b66d56f91085f915b34'), ObjectId('67b29b66d56f91085f915b35'), ObjectId('67b29b66d56f91085f915b36'), ObjectId('67b29b66d56f91085f915b37'), ObjectId('67b29b66d56f91085f915b38'), ObjectId('67b29b66d56f91085f915b39'), ObjectId('67b29b66d56f91085f915b3a'), ObjectId('67b29b66d56f91085f915b3b'), ObjectId('67b29b66d56f91085f915b3c'), ObjectId('67b29b66d56f91085f915b3d'), ObjectId('67b29b66d56f91085f915b3e'), ObjectId('67b29b66d56f91085f915b3f'), ObjectId('67b29b66d56f91085f915b40'), ObjectId('67b29b66d56f91085f915b41'), ObjectId('67b29b66d56f91085f915b42'), ObjectId('67b29b66d56f91085f915b43'), ObjectId('67b29b66d56f91085f915b44'), ObjectId('67b29b66d56f91085f915b45'), ObjectId('67b29b66d56f91085f915b46'), ObjectId('67b29b66d56f91085f915b47'), ObjectId('67b29b66d56f91085f915b48'), ObjectId('67b29b66d56f91085f915b49'), ObjectId('67b29b66d56f91085f915b4a'), ObjectId('67b29b66d56f91085f915b4b'), ObjectId('67b29b66d56f91085f915b4c'), ObjectId('67b29b66d56f91085f915b4d'), ObjectId('67b29b66d56f91085f915b4e'), ObjectId('67b29b66d56f91085f915b4f'), ObjectId('67b29b66d56f91085f915b50'), ObjectId('67b29b66d56f91085f915b51'), ObjectId('67b29b66d56f91085f915b52'), ObjectId('67b29b66d56f91085f915b53'), ObjectId('67b29b66d56f91085f915b54'), ObjectId('67b29b66d56f91085f915b55'), ObjectId('67b29b66d56f91085f915b56'), ObjectId('67b29b66d56f91085f915b57'), ObjectId('67b29b66d56f91085f915b58'), ObjectId('67b29b66d56f91085f915b59'), ObjectId('67b29b66d56f91085f915b5a'), ObjectId('67b29b66d56f91085f915b5b'), ObjectId('67b29b66d56f91085f915b5c'), ObjectId('67b29b66d56f91085f915b5d'), ObjectId('67b29b66d56f91085f915b5e'), ObjectId('67b29b66d56f91085f915b5f'), ObjectId('67b29b66d56f91085f915b60'), ObjectId('67b29b66d56f91085f915b61'), ObjectId('67b29b66d56f91085f915b62'), ObjectId('67b29b66d56f91085f915b63'), ObjectId('67b29b66d56f91085f915b64'), ObjectId('67b29b66d56f91085f915b65'), ObjectId('67b29b66d56f91085f915b66'), ObjectId('67b29b66d56f91085f915b67'), ObjectId('67b29b66d56f91085f915b68'), ObjectId('67b29b66d56f91085f915b69'), ObjectId('67b29b66d56f91085f915b6a'), ObjectId('67b29b66d56f91085f915b6b'), ObjectId('67b29b66d56f91085f915b6c'), ObjectId('67b29b66d56f91085f915b6d'), ObjectId('67b29b66d56f91085f915b6e'), ObjectId('67b29b66d56f91085f915b6f'), ObjectId('67b29b66d56f91085f915b70'), ObjectId('67b29b66d56f91085f915b71'), ObjectId('67b29b66d56f91085f915b72'), ObjectId('67b29b66d56f91085f915b73'), ObjectId('67b29b66d56f91085f915b74'), ObjectId('67b29b66d56f91085f915b75'), ObjectId('67b29b66d56f91085f915b76'), ObjectId('67b29b66d56f91085f915b77'), ObjectId('67b29b66d56f91085f915b78'), ObjectId('67b29b66d56f91085f915b79'), ObjectId('67b29b66d56f91085f915b7a'), ObjectId('67b29b66d56f91085f915b7b'), ObjectId('67b29b66d56f91085f915b7c'), ObjectId('67b29b66d56f91085f915b7d'), ObjectId('67b29b66d56f91085f915b7e'), ObjectId('67b29b66d56f91085f915b7f'), ObjectId('67b29b66d56f91085f915b80'), ObjectId('67b29b66d56f91085f915b81'), ObjectId('67b29b66d56f91085f915b82'), ObjectId('67b29b66d56f91085f915b83'), ObjectId('67b29b66d56f91085f915b84'), ObjectId('67b29b66d56f91085f915b85'), ObjectId('67b29b66d56f91085f915b86'), ObjectId('67b29b66d56f91085f915b87'), ObjectId('67b29b66d56f91085f915b88'), ObjectId('67b29b66d56f91085f915b89'), ObjectId('67b29b66d56f91085f915b8a'), ObjectId('67b29b66d56f91085f915b8b'), ObjectId('67b29b66d56f91085f915b8c'), ObjectId('67b29b66d56f91085f915b8d'), ObjectId('67b29b66d56f91085f915b8e'), ObjectId('67b29b66d56f91085f915b8f'), ObjectId('67b29b66d56f91085f915b90'), ObjectId('67b29b66d56f91085f915b91'), ObjectId('67b29b66d56f91085f915b92'), ObjectId('67b29b66d56f91085f915b93'), ObjectId('67b29b66d56f91085f915b94'), ObjectId('67b29b66d56f91085f915b95'), ObjectId('67b29b66d56f91085f915b96'), ObjectId('67b29b66d56f91085f915b97'), ObjectId('67b29b66d56f91085f915b98'), ObjectId('67b29b66d56f91085f915b99'), ObjectId('67b29b66d56f91085f915b9a'), ObjectId('67b29b66d56f91085f915b9b'), ObjectId('67b29b66d56f91085f915b9c'), ObjectId('67b29b66d56f91085f915b9d'), ObjectId('67b29b66d56f91085f915b9e'), ObjectId('67b29b66d56f91085f915b9f'), ObjectId('67b29b66d56f91085f915ba0'), ObjectId('67b29b66d56f91085f915ba1'), ObjectId('67b29b66d56f91085f915ba2'), ObjectId('67b29b66d56f91085f915ba3'), ObjectId('67b29b66d56f91085f915ba4'), ObjectId('67b29b66d56f91085f915ba5'), ObjectId('67b29b66d56f91085f915ba6'), ObjectId('67b29b66d56f91085f915ba7'), ObjectId('67b29b66d56f91085f915ba8'), ObjectId('67b29b66d56f91085f915ba9'), ObjectId('67b29b66d56f91085f915baa'), ObjectId('67b29b66d56f91085f915bab'), ObjectId('67b29b66d56f91085f915bac'), ObjectId('67b29b66d56f91085f915bad'), ObjectId('67b29b66d56f91085f915bae'), ObjectId('67b29b66d56f91085f915baf'), ObjectId('67b29b66d56f91085f915bb0'), ObjectId('67b29b66d56f91085f915bb1'), ObjectId('67b29b66d56f91085f915bb2'), ObjectId('67b29b66d56f91085f915bb3'), ObjectId('67b29b66d56f91085f915bb4'), ObjectId('67b29b66d56f91085f915bb5'), ObjectId('67b29b66d56f91085f915bb6'), ObjectId('67b29b66d56f91085f915bb7'), ObjectId('67b29b66d56f91085f915bb8'), ObjectId('67b29b66d56f91085f915bb9'), ObjectId('67b29b66d56f91085f915bba'), ObjectId('67b29b66d56f91085f915bbb'), ObjectId('67b29b66d56f91085f915bbc'), ObjectId('67b29b66d56f91085f915bbd'), ObjectId('67b29b66d56f91085f915bbe'), ObjectId('67b29b66d56f91085f915bbf'), ObjectId('67b29b66d56f91085f915bc0'), ObjectId('67b29b66d56f91085f915bc1'), ObjectId('67b29b66d56f91085f915bc2'), ObjectId('67b29b66d56f91085f915bc3'), ObjectId('67b29b66d56f91085f915bc4'), ObjectId('67b29b66d56f91085f915bc5'), ObjectId('67b29b66d56f91085f915bc6'), ObjectId('67b29b66d56f91085f915bc7'), ObjectId('67b29b66d56f91085f915bc8'), ObjectId('67b29b66d56f91085f915bc9'), ObjectId('67b29b66d56f91085f915bca'), ObjectId('67b29b66d56f91085f915bcb'), ObjectId('67b29b66d56f91085f915bcc'), ObjectId('67b29b66d56f91085f915bcd'), ObjectId('67b29b66d56f91085f915bce'), ObjectId('67b29b66d56f91085f915bcf'), ObjectId('67b29b66d56f91085f915bd0'), ObjectId('67b29b66d56f91085f915bd1'), ObjectId('67b29b66d56f91085f915bd2'), ObjectId('67b29b66d56f91085f915bd3'), ObjectId('67b29b66d56f91085f915bd4'), ObjectId('67b29b66d56f91085f915bd5'), ObjectId('67b29b66d56f91085f915bd6'), ObjectId('67b29b66d56f91085f915bd7'), ObjectId('67b29b66d56f91085f915bd8'), ObjectId('67b29b66d56f91085f915bd9'), ObjectId('67b29b66d56f91085f915bda'), ObjectId('67b29b66d56f91085f915bdb'), ObjectId('67b29b66d56f91085f915bdc'), ObjectId('67b29b66d56f91085f915bdd'), ObjectId('67b29b66d56f91085f915bde'), ObjectId('67b29b66d56f91085f915bdf'), ObjectId('67b29b66d56f91085f915be0'), ObjectId('67b29b66d56f91085f915be1'), ObjectId('67b29b66d56f91085f915be2'), ObjectId('67b29b66d56f91085f915be3'), ObjectId('67b29b66d56f91085f915be4'), ObjectId('67b29b66d56f91085f915be5'), ObjectId('67b29b66d56f91085f915be6'), ObjectId('67b29b66d56f91085f915be7'), ObjectId('67b29b66d56f91085f915be8'), ObjectId('67b29b66d56f91085f915be9'), ObjectId('67b29b66d56f91085f915bea'), ObjectId('67b29b66d56f91085f915beb'), ObjectId('67b29b66d56f91085f915bec'), ObjectId('67b29b66d56f91085f915bed'), ObjectId('67b29b66d56f91085f915bee'), ObjectId('67b29b66d56f91085f915bef'), ObjectId('67b29b66d56f91085f915bf0'), ObjectId('67b29b66d56f91085f915bf1'), ObjectId('67b29b66d56f91085f915bf2'), ObjectId('67b29b66d56f91085f915bf3'), ObjectId('67b29b66d56f91085f915bf4'), ObjectId('67b29b66d56f91085f915bf5'), ObjectId('67b29b66d56f91085f915bf6'), ObjectId('67b29b66d56f91085f915bf7'), ObjectId('67b29b66d56f91085f915bf8'), ObjectId('67b29b66d56f91085f915bf9'), ObjectId('67b29b66d56f91085f915bfa'), ObjectId('67b29b66d56f91085f915bfb'), ObjectId('67b29b66d56f91085f915bfc'), ObjectId('67b29b66d56f91085f915bfd'), ObjectId('67b29b66d56f91085f915bfe'), ObjectId('67b29b66d56f91085f915bff'), ObjectId('67b29b66d56f91085f915c00'), ObjectId('67b29b66d56f91085f915c01'), ObjectId('67b29b66d56f91085f915c02'), ObjectId('67b29b66d56f91085f915c03'), ObjectId('67b29b66d56f91085f915c04'), ObjectId('67b29b66d56f91085f915c05'), ObjectId('67b29b66d56f91085f915c06'), ObjectId('67b29b66d56f91085f915c07'), ObjectId('67b29b66d56f91085f915c08'), ObjectId('67b29b66d56f91085f915c09'), ObjectId('67b29b66d56f91085f915c0a'), ObjectId('67b29b66d56f91085f915c0b'), ObjectId('67b29b66d56f91085f915c0c'), ObjectId('67b29b66d56f91085f915c0d'), ObjectId('67b29b66d56f91085f915c0e'), ObjectId('67b29b66d56f91085f915c0f'), ObjectId('67b29b66d56f91085f915c10'), ObjectId('67b29b66d56f91085f915c11'), ObjectId('67b29b66d56f91085f915c12'), ObjectId('67b29b66d56f91085f915c13'), ObjectId('67b29b66d56f91085f915c14'), ObjectId('67b29b66d56f91085f915c15'), ObjectId('67b29b66d56f91085f915c16'), ObjectId('67b29b66d56f91085f915c17'), ObjectId('67b29b66d56f91085f915c18'), ObjectId('67b29b66d56f91085f915c19'), ObjectId('67b29b66d56f91085f915c1a'), ObjectId('67b29b66d56f91085f915c1b'), ObjectId('67b29b66d56f91085f915c1c'), ObjectId('67b29b66d56f91085f915c1d'), ObjectId('67b29b66d56f91085f915c1e'), ObjectId('67b29b66d56f91085f915c1f'), ObjectId('67b29b66d56f91085f915c20'), ObjectId('67b29b66d56f91085f915c21'), ObjectId('67b29b66d56f91085f915c22'), ObjectId('67b29b66d56f91085f915c23'), ObjectId('67b29b66d56f91085f915c24'), ObjectId('67b29b66d56f91085f915c25'), ObjectId('67b29b66d56f91085f915c26'), ObjectId('67b29b66d56f91085f915c27'), ObjectId('67b29b66d56f91085f915c28'), ObjectId('67b29b66d56f91085f915c29'), ObjectId('67b29b66d56f91085f915c2a'), ObjectId('67b29b66d56f91085f915c2b'), ObjectId('67b29b66d56f91085f915c2c'), ObjectId('67b29b66d56f91085f915c2d'), ObjectId('67b29b66d56f91085f915c2e'), ObjectId('67b29b66d56f91085f915c2f'), ObjectId('67b29b66d56f91085f915c30'), ObjectId('67b29b66d56f91085f915c31'), ObjectId('67b29b66d56f91085f915c32'), ObjectId('67b29b66d56f91085f915c33'), ObjectId('67b29b66d56f91085f915c34'), ObjectId('67b29b66d56f91085f915c35'), ObjectId('67b29b66d56f91085f915c36'), ObjectId('67b29b66d56f91085f915c37'), ObjectId('67b29b66d56f91085f915c38'), ObjectId('67b29b66d56f91085f915c39'), ObjectId('67b29b66d56f91085f915c3a'), ObjectId('67b29b66d56f91085f915c3b'), ObjectId('67b29b66d56f91085f915c3c'), ObjectId('67b29b66d56f91085f915c3d'), ObjectId('67b29b66d56f91085f915c3e'), ObjectId('67b29b66d56f91085f915c3f'), ObjectId('67b29b66d56f91085f915c40'), ObjectId('67b29b66d56f91085f915c41'), ObjectId('67b29b66d56f91085f915c42'), ObjectId('67b29b66d56f91085f915c43'), ObjectId('67b29b66d56f91085f915c44'), ObjectId('67b29b66d56f91085f915c45'), ObjectId('67b29b66d56f91085f915c46'), ObjectId('67b29b66d56f91085f915c47'), ObjectId('67b29b66d56f91085f915c48'), ObjectId('67b29b66d56f91085f915c49'), ObjectId('67b29b66d56f91085f915c4a'), ObjectId('67b29b66d56f91085f915c4b'), ObjectId('67b29b66d56f91085f915c4c'), ObjectId('67b29b66d56f91085f915c4d'), ObjectId('67b29b66d56f91085f915c4e'), ObjectId('67b29b66d56f91085f915c4f'), ObjectId('67b29b66d56f91085f915c50'), ObjectId('67b29b66d56f91085f915c51'), ObjectId('67b29b66d56f91085f915c52'), ObjectId('67b29b66d56f91085f915c53'), ObjectId('67b29b66d56f91085f915c54'), ObjectId('67b29b66d56f91085f915c55'), ObjectId('67b29b66d56f91085f915c56'), ObjectId('67b29b66d56f91085f915c57'), ObjectId('67b29b66d56f91085f915c58'), ObjectId('67b29b66d56f91085f915c59'), ObjectId('67b29b66d56f91085f915c5a'), ObjectId('67b29b66d56f91085f915c5b'), ObjectId('67b29b66d56f91085f915c5c'), ObjectId('67b29b66d56f91085f915c5d'), ObjectId('67b29b66d56f91085f915c5e'), ObjectId('67b29b66d56f91085f915c5f'), ObjectId('67b29b66d56f91085f915c60'), ObjectId('67b29b66d56f91085f915c61'), ObjectId('67b29b66d56f91085f915c62'), ObjectId('67b29b66d56f91085f915c63'), ObjectId('67b29b66d56f91085f915c64'), ObjectId('67b29b66d56f91085f915c65'), ObjectId('67b29b66d56f91085f915c66'), ObjectId('67b29b66d56f91085f915c67'), ObjectId('67b29b66d56f91085f915c68'), ObjectId('67b29b66d56f91085f915c69'), ObjectId('67b29b66d56f91085f915c6a'), ObjectId('67b29b66d56f91085f915c6b'), ObjectId('67b29b66d56f91085f915c6c'), ObjectId('67b29b66d56f91085f915c6d'), ObjectId('67b29b66d56f91085f915c6e'), ObjectId('67b29b66d56f91085f915c6f'), ObjectId('67b29b66d56f91085f915c70'), ObjectId('67b29b66d56f91085f915c71'), ObjectId('67b29b66d56f91085f915c72'), ObjectId('67b29b66d56f91085f915c73'), ObjectId('67b29b66d56f91085f915c74'), ObjectId('67b29b66d56f91085f915c75'), ObjectId('67b29b66d56f91085f915c76'), ObjectId('67b29b66d56f91085f915c77'), ObjectId('67b29b66d56f91085f915c78'), ObjectId('67b29b66d56f91085f915c79'), ObjectId('67b29b66d56f91085f915c7a'), ObjectId('67b29b66d56f91085f915c7b'), ObjectId('67b29b66d56f91085f915c7c'), ObjectId('67b29b66d56f91085f915c7d'), ObjectId('67b29b66d56f91085f915c7e'), ObjectId('67b29b66d56f91085f915c7f'), ObjectId('67b29b66d56f91085f915c80'), ObjectId('67b29b66d56f91085f915c81'), ObjectId('67b29b66d56f91085f915c82'), ObjectId('67b29b66d56f91085f915c83'), ObjectId('67b29b66d56f91085f915c84'), ObjectId('67b29b66d56f91085f915c85'), ObjectId('67b29b66d56f91085f915c86'), ObjectId('67b29b66d56f91085f915c87'), ObjectId('67b29b66d56f91085f915c88'), ObjectId('67b29b66d56f91085f915c89'), ObjectId('67b29b66d56f91085f915c8a'), ObjectId('67b29b66d56f91085f915c8b'), ObjectId('67b29b66d56f91085f915c8c'), ObjectId('67b29b66d56f91085f915c8d'), ObjectId('67b29b66d56f91085f915c8e'), ObjectId('67b29b66d56f91085f915c8f'), ObjectId('67b29b66d56f91085f915c90'), ObjectId('67b29b66d56f91085f915c91'), ObjectId('67b29b66d56f91085f915c92'), ObjectId('67b29b66d56f91085f915c93'), ObjectId('67b29b66d56f91085f915c94'), ObjectId('67b29b66d56f91085f915c95'), ObjectId('67b29b66d56f91085f915c96'), ObjectId('67b29b66d56f91085f915c97'), ObjectId('67b29b66d56f91085f915c98'), ObjectId('67b29b66d56f91085f915c99'), ObjectId('67b29b66d56f91085f915c9a'), ObjectId('67b29b66d56f91085f915c9b'), ObjectId('67b29b66d56f91085f915c9c'), ObjectId('67b29b66d56f91085f915c9d'), ObjectId('67b29b66d56f91085f915c9e'), ObjectId('67b29b66d56f91085f915c9f'), ObjectId('67b29b66d56f91085f915ca0'), ObjectId('67b29b66d56f91085f915ca1'), ObjectId('67b29b66d56f91085f915ca2'), ObjectId('67b29b66d56f91085f915ca3'), ObjectId('67b29b66d56f91085f915ca4'), ObjectId('67b29b66d56f91085f915ca5'), ObjectId('67b29b66d56f91085f915ca6'), ObjectId('67b29b66d56f91085f915ca7'), ObjectId('67b29b66d56f91085f915ca8'), ObjectId('67b29b66d56f91085f915ca9'), ObjectId('67b29b66d56f91085f915caa'), ObjectId('67b29b66d56f91085f915cab'), ObjectId('67b29b66d56f91085f915cac'), ObjectId('67b29b66d56f91085f915cad'), ObjectId('67b29b66d56f91085f915cae'), ObjectId('67b29b66d56f91085f915caf'), ObjectId('67b29b66d56f91085f915cb0'), ObjectId('67b29b66d56f91085f915cb1'), ObjectId('67b29b66d56f91085f915cb2'), ObjectId('67b29b66d56f91085f915cb3'), ObjectId('67b29b66d56f91085f915cb4'), ObjectId('67b29b66d56f91085f915cb5'), ObjectId('67b29b66d56f91085f915cb6'), ObjectId('67b29b66d56f91085f915cb7'), ObjectId('67b29b66d56f91085f915cb8'), ObjectId('67b29b66d56f91085f915cb9'), ObjectId('67b29b66d56f91085f915cba'), ObjectId('67b29b66d56f91085f915cbb'), ObjectId('67b29b66d56f91085f915cbc'), ObjectId('67b29b66d56f91085f915cbd'), ObjectId('67b29b66d56f91085f915cbe'), ObjectId('67b29b66d56f91085f915cbf'), ObjectId('67b29b66d56f91085f915cc0'), ObjectId('67b29b66d56f91085f915cc1'), ObjectId('67b29b66d56f91085f915cc2'), ObjectId('67b29b66d56f91085f915cc3'), ObjectId('67b29b66d56f91085f915cc4'), ObjectId('67b29b66d56f91085f915cc5'), ObjectId('67b29b66d56f91085f915cc6'), ObjectId('67b29b66d56f91085f915cc7'), ObjectId('67b29b66d56f91085f915cc8'), ObjectId('67b29b66d56f91085f915cc9'), ObjectId('67b29b66d56f91085f915cca'), ObjectId('67b29b66d56f91085f915ccb'), ObjectId('67b29b66d56f91085f915ccc'), ObjectId('67b29b66d56f91085f915ccd'), ObjectId('67b29b66d56f91085f915cce'), ObjectId('67b29b66d56f91085f915ccf'), ObjectId('67b29b66d56f91085f915cd0'), ObjectId('67b29b66d56f91085f915cd1'), ObjectId('67b29b66d56f91085f915cd2'), ObjectId('67b29b66d56f91085f915cd3'), ObjectId('67b29b66d56f91085f915cd4'), ObjectId('67b29b66d56f91085f915cd5'), ObjectId('67b29b66d56f91085f915cd6'), ObjectId('67b29b66d56f91085f915cd7'), ObjectId('67b29b66d56f91085f915cd8'), ObjectId('67b29b66d56f91085f915cd9'), ObjectId('67b29b66d56f91085f915cda'), ObjectId('67b29b66d56f91085f915cdb'), ObjectId('67b29b66d56f91085f915cdc'), ObjectId('67b29b66d56f91085f915cdd'), ObjectId('67b29b66d56f91085f915cde'), ObjectId('67b29b66d56f91085f915cdf'), ObjectId('67b29b66d56f91085f915ce0'), ObjectId('67b29b66d56f91085f915ce1'), ObjectId('67b29b66d56f91085f915ce2'), ObjectId('67b29b66d56f91085f915ce3'), ObjectId('67b29b66d56f91085f915ce4'), ObjectId('67b29b66d56f91085f915ce5'), ObjectId('67b29b66d56f91085f915ce6'), ObjectId('67b29b66d56f91085f915ce7'), ObjectId('67b29b66d56f91085f915ce8'), ObjectId('67b29b66d56f91085f915ce9'), ObjectId('67b29b66d56f91085f915cea'), ObjectId('67b29b66d56f91085f915ceb'), ObjectId('67b29b66d56f91085f915cec'), ObjectId('67b29b66d56f91085f915ced'), ObjectId('67b29b66d56f91085f915cee'), ObjectId('67b29b66d56f91085f915cef'), ObjectId('67b29b66d56f91085f915cf0'), ObjectId('67b29b66d56f91085f915cf1'), ObjectId('67b29b66d56f91085f915cf2'), ObjectId('67b29b66d56f91085f915cf3'), ObjectId('67b29b66d56f91085f915cf4'), ObjectId('67b29b66d56f91085f915cf5'), ObjectId('67b29b66d56f91085f915cf6'), ObjectId('67b29b66d56f91085f915cf7'), ObjectId('67b29b66d56f91085f915cf8'), ObjectId('67b29b66d56f91085f915cf9'), ObjectId('67b29b66d56f91085f915cfa'), ObjectId('67b29b66d56f91085f915cfb'), ObjectId('67b29b66d56f91085f915cfc'), ObjectId('67b29b66d56f91085f915cfd'), ObjectId('67b29b66d56f91085f915cfe'), ObjectId('67b29b66d56f91085f915cff'), ObjectId('67b29b66d56f91085f915d00'), ObjectId('67b29b66d56f91085f915d01'), ObjectId('67b29b66d56f91085f915d02'), ObjectId('67b29b66d56f91085f915d03'), ObjectId('67b29b66d56f91085f915d04'), ObjectId('67b29b66d56f91085f915d05'), ObjectId('67b29b66d56f91085f915d06'), ObjectId('67b29b66d56f91085f915d07'), ObjectId('67b29b66d56f91085f915d08'), ObjectId('67b29b66d56f91085f915d09'), ObjectId('67b29b66d56f91085f915d0a'), ObjectId('67b29b66d56f91085f915d0b'), ObjectId('67b29b66d56f91085f915d0c'), ObjectId('67b29b66d56f91085f915d0d'), ObjectId('67b29b66d56f91085f915d0e'), ObjectId('67b29b66d56f91085f915d0f'), ObjectId('67b29b66d56f91085f915d10'), ObjectId('67b29b66d56f91085f915d11'), ObjectId('67b29b66d56f91085f915d12'), ObjectId('67b29b66d56f91085f915d13'), ObjectId('67b29b66d56f91085f915d14'), ObjectId('67b29b66d56f91085f915d15'), ObjectId('67b29b66d56f91085f915d16'), ObjectId('67b29b66d56f91085f915d17'), ObjectId('67b29b66d56f91085f915d18'), ObjectId('67b29b66d56f91085f915d19'), ObjectId('67b29b66d56f91085f915d1a'), ObjectId('67b29b66d56f91085f915d1b'), ObjectId('67b29b66d56f91085f915d1c'), ObjectId('67b29b66d56f91085f915d1d'), ObjectId('67b29b66d56f91085f915d1e'), ObjectId('67b29b66d56f91085f915d1f'), ObjectId('67b29b66d56f91085f915d20'), ObjectId('67b29b66d56f91085f915d21'), ObjectId('67b29b66d56f91085f915d22'), ObjectId('67b29b66d56f91085f915d23'), ObjectId('67b29b66d56f91085f915d24'), ObjectId('67b29b66d56f91085f915d25'), ObjectId('67b29b66d56f91085f915d26'), ObjectId('67b29b66d56f91085f915d27'), ObjectId('67b29b66d56f91085f915d28'), ObjectId('67b29b66d56f91085f915d29'), ObjectId('67b29b66d56f91085f915d2a'), ObjectId('67b29b66d56f91085f915d2b'), ObjectId('67b29b66d56f91085f915d2c'), ObjectId('67b29b66d56f91085f915d2d'), ObjectId('67b29b66d56f91085f915d2e'), ObjectId('67b29b66d56f91085f915d2f'), ObjectId('67b29b66d56f91085f915d30'), ObjectId('67b29b66d56f91085f915d31'), ObjectId('67b29b66d56f91085f915d32'), ObjectId('67b29b66d56f91085f915d33'), ObjectId('67b29b66d56f91085f915d34'), ObjectId('67b29b66d56f91085f915d35'), ObjectId('67b29b66d56f91085f915d36'), ObjectId('67b29b66d56f91085f915d37'), ObjectId('67b29b66d56f91085f915d38'), ObjectId('67b29b66d56f91085f915d39'), ObjectId('67b29b66d56f91085f915d3a'), ObjectId('67b29b66d56f91085f915d3b'), ObjectId('67b29b66d56f91085f915d3c'), ObjectId('67b29b66d56f91085f915d3d'), ObjectId('67b29b66d56f91085f915d3e'), ObjectId('67b29b66d56f91085f915d3f'), ObjectId('67b29b66d56f91085f915d40'), ObjectId('67b29b66d56f91085f915d41'), ObjectId('67b29b66d56f91085f915d42'), ObjectId('67b29b66d56f91085f915d43'), ObjectId('67b29b66d56f91085f915d44'), ObjectId('67b29b66d56f91085f915d45'), ObjectId('67b29b66d56f91085f915d46'), ObjectId('67b29b66d56f91085f915d47'), ObjectId('67b29b66d56f91085f915d48'), ObjectId('67b29b66d56f91085f915d49'), ObjectId('67b29b66d56f91085f915d4a'), ObjectId('67b29b66d56f91085f915d4b'), ObjectId('67b29b66d56f91085f915d4c'), ObjectId('67b29b66d56f91085f915d4d'), ObjectId('67b29b66d56f91085f915d4e'), ObjectId('67b29b66d56f91085f915d4f'), ObjectId('67b29b66d56f91085f915d50'), ObjectId('67b29b66d56f91085f915d51'), ObjectId('67b29b66d56f91085f915d52'), ObjectId('67b29b66d56f91085f915d53'), ObjectId('67b29b66d56f91085f915d54'), ObjectId('67b29b66d56f91085f915d55'), ObjectId('67b29b66d56f91085f915d56'), ObjectId('67b29b66d56f91085f915d57'), ObjectId('67b29b66d56f91085f915d58'), ObjectId('67b29b66d56f91085f915d59'), ObjectId('67b29b66d56f91085f915d5a'), ObjectId('67b29b66d56f91085f915d5b'), ObjectId('67b29b66d56f91085f915d5c'), ObjectId('67b29b66d56f91085f915d5d'), ObjectId('67b29b66d56f91085f915d5e'), ObjectId('67b29b66d56f91085f915d5f'), ObjectId('67b29b66d56f91085f915d60'), ObjectId('67b29b66d56f91085f915d61'), ObjectId('67b29b66d56f91085f915d62'), ObjectId('67b29b66d56f91085f915d63'), ObjectId('67b29b66d56f91085f915d64'), ObjectId('67b29b66d56f91085f915d65'), ObjectId('67b29b66d56f91085f915d66'), ObjectId('67b29b66d56f91085f915d67'), ObjectId('67b29b66d56f91085f915d68'), ObjectId('67b29b66d56f91085f915d69'), ObjectId('67b29b66d56f91085f915d6a'), ObjectId('67b29b66d56f91085f915d6b'), ObjectId('67b29b66d56f91085f915d6c'), ObjectId('67b29b66d56f91085f915d6d'), ObjectId('67b29b66d56f91085f915d6e'), ObjectId('67b29b66d56f91085f915d6f'), ObjectId('67b29b66d56f91085f915d70'), ObjectId('67b29b66d56f91085f915d71'), ObjectId('67b29b66d56f91085f915d72'), ObjectId('67b29b66d56f91085f915d73'), ObjectId('67b29b66d56f91085f915d74'), ObjectId('67b29b66d56f91085f915d75'), ObjectId('67b29b66d56f91085f915d76'), ObjectId('67b29b66d56f91085f915d77'), ObjectId('67b29b66d56f91085f915d78'), ObjectId('67b29b66d56f91085f915d79'), ObjectId('67b29b66d56f91085f915d7a'), ObjectId('67b29b66d56f91085f915d7b'), ObjectId('67b29b66d56f91085f915d7c'), ObjectId('67b29b66d56f91085f915d7d'), ObjectId('67b29b66d56f91085f915d7e'), ObjectId('67b29b66d56f91085f915d7f'), ObjectId('67b29b66d56f91085f915d80'), ObjectId('67b29b66d56f91085f915d81'), ObjectId('67b29b66d56f91085f915d82'), ObjectId('67b29b66d56f91085f915d83'), ObjectId('67b29b66d56f91085f915d84'), ObjectId('67b29b66d56f91085f915d85'), ObjectId('67b29b66d56f91085f915d86'), ObjectId('67b29b66d56f91085f915d87'), ObjectId('67b29b66d56f91085f915d88'), ObjectId('67b29b66d56f91085f915d89'), ObjectId('67b29b66d56f91085f915d8a'), ObjectId('67b29b66d56f91085f915d8b'), ObjectId('67b29b66d56f91085f915d8c'), ObjectId('67b29b66d56f91085f915d8d'), ObjectId('67b29b66d56f91085f915d8e'), ObjectId('67b29b66d56f91085f915d8f'), ObjectId('67b29b66d56f91085f915d90'), ObjectId('67b29b66d56f91085f915d91'), ObjectId('67b29b66d56f91085f915d92'), ObjectId('67b29b66d56f91085f915d93'), ObjectId('67b29b66d56f91085f915d94'), ObjectId('67b29b66d56f91085f915d95'), ObjectId('67b29b66d56f91085f915d96'), ObjectId('67b29b66d56f91085f915d97'), ObjectId('67b29b66d56f91085f915d98'), ObjectId('67b29b66d56f91085f915d99'), ObjectId('67b29b66d56f91085f915d9a'), ObjectId('67b29b66d56f91085f915d9b'), ObjectId('67b29b66d56f91085f915d9c'), ObjectId('67b29b66d56f91085f915d9d'), ObjectId('67b29b66d56f91085f915d9e'), ObjectId('67b29b66d56f91085f915d9f'), ObjectId('67b29b66d56f91085f915da0'), ObjectId('67b29b66d56f91085f915da1'), ObjectId('67b29b66d56f91085f915da2'), ObjectId('67b29b66d56f91085f915da3'), ObjectId('67b29b66d56f91085f915da4'), ObjectId('67b29b66d56f91085f915da5'), ObjectId('67b29b66d56f91085f915da6'), ObjectId('67b29b66d56f91085f915da7'), ObjectId('67b29b66d56f91085f915da8'), ObjectId('67b29b66d56f91085f915da9'), ObjectId('67b29b66d56f91085f915daa'), ObjectId('67b29b66d56f91085f915dab'), ObjectId('67b29b66d56f91085f915dac'), ObjectId('67b29b66d56f91085f915dad'), ObjectId('67b29b66d56f91085f915dae'), ObjectId('67b29b66d56f91085f915daf'), ObjectId('67b29b66d56f91085f915db0'), ObjectId('67b29b66d56f91085f915db1'), ObjectId('67b29b66d56f91085f915db2'), ObjectId('67b29b66d56f91085f915db3'), ObjectId('67b29b66d56f91085f915db4'), ObjectId('67b29b66d56f91085f915db5'), ObjectId('67b29b66d56f91085f915db6')], acknowledged=True)"
      ]
     },
     "execution_count": 123,
     "metadata": {},
     "output_type": "execute_result"
    }
   ],
   "source": [
    "collection.insert_many(data)\n"
   ]
  },
  {
   "cell_type": "markdown",
   "metadata": {},
   "source": [
    "Query MongoDB\n"
   ]
  },
  {
   "cell_type": "markdown",
   "metadata": {},
   "source": [
    "1. Count the employees whose TotalWorkingYears are greater than 20.\n"
   ]
  },
  {
   "cell_type": "code",
   "execution_count": 124,
   "metadata": {},
   "outputs": [
    {
     "data": {
      "text/plain": [
       "207"
      ]
     },
     "execution_count": 124,
     "metadata": {},
     "output_type": "execute_result"
    }
   ],
   "source": [
    "collection.count_documents({\"TotalWorkingYears\": {\"$gt\":20}})\n"
   ]
  },
  {
   "cell_type": "markdown",
   "metadata": {},
   "source": [
    "2. Find EmployeeNumber, EducationField, JobRole for all the employees whose Age is between 25 and 30 and Education is 5. Display only EmployeeNumber, EducationField, and JobRobe in the output.\n"
   ]
  },
  {
   "cell_type": "code",
   "execution_count": 134,
   "metadata": {},
   "outputs": [
    {
     "name": "stdout",
     "output_type": "stream",
     "text": [
      "Employee Number \t Education Field \t JobRole\n",
      "455\t\t\tOther\t\t\tLaboratory Technician\n",
      "565\t\t\tTechnical Degree\t\t\tResearch Scientist\n",
      "747\t\t\tMarketing\t\t\tSales Executive\n",
      "1094\t\t\tLife Sciences\t\t\tLaboratory Technician\n"
     ]
    }
   ],
   "source": [
    "employees = collection.find(\n",
    "    { \"Age\": { \"$gte\": 25, \"$lte\": 30 }, \"Education\": 5 },  # Correct filter\n",
    "    { \"EmployeeNumber\": 1, \"EducationField\": 1, \"JobRole\": 1, \"_id\": 0 }  # Correct projection\n",
    ")\n",
    "\n",
    "# Print formatted outputs\n",
    "print('Employee Number', '\\t', 'Education Field', '\\t', 'JobRole')\n",
    "\n",
    "\n",
    "for em in employees:\n",
    "    print('{0}\\t\\t\\t{1}\\t\\t\\t{2}'.format(em['EmployeeNumber'], em['EducationField'],em['JobRole']))\n"
   ]
  },
  {
   "cell_type": "markdown",
   "metadata": {},
   "source": [
    "3. For all the women employees having Age between 35 and 40 and TotalWorkingYears < 5, sort EmployeeNumber in an ascending order. Print only Department and EmployeeNumber in the output.\n"
   ]
  },
  {
   "cell_type": "code",
   "execution_count": 137,
   "metadata": {},
   "outputs": [
    {
     "name": "stdout",
     "output_type": "stream",
     "text": [
      "Employee Number \t Department\n",
      "49\t\t\tSales\n",
      "75\t\t\tResearch & Development\n",
      "245\t\t\tResearch & Development\n",
      "805\t\t\tSales\n",
      "1569\t\t\tResearch & Development\n",
      "1662\t\t\tResearch & Development\n",
      "1675\t\t\tResearch & Development\n",
      "1886\t\t\tResearch & Development\n",
      "2052\t\t\tResearch & Development\n"
     ]
    }
   ],
   "source": [
    "employees = collection.find(\n",
    "    {  \n",
    "        \"Gender\": \"Female\",  \n",
    "        \"Age\": { \"$gte\": 35, \"$lte\": 40 },  \n",
    "        \"TotalWorkingYears\": { \"$lt\": 5 }  \n",
    "    },  # Filter conditions\n",
    "    { \"EmployeeNumber\": 1, \"Department\": 1, \"_id\": 0 }  # Projection (only required fields)\n",
    ").sort(\"EmployeeNumber\", 1)  # Sorting in ascending order\n",
    "\n",
    "# Print formatted output\n",
    "print('Employee Number', '\\t', 'Department')\n",
    "\n",
    "for em in employees:\n",
    "    print('{0}\\t\\t\\t{1}'.format(em['EmployeeNumber'], em['Department']))\n"
   ]
  },
  {
   "cell_type": "markdown",
   "metadata": {},
   "source": [
    "4. Find employees whose HourlyRate is greater than or equal to 100 or DailyRate is greater than 1490. Display Age, HourlyRate, DailyRate, and Department only and sort DailyRate in an ascending order.\n"
   ]
  },
  {
   "cell_type": "code",
   "execution_count": 141,
   "metadata": {},
   "outputs": [
    {
     "name": "stdout",
     "output_type": "stream",
     "text": [
      "Age \t HourlyRate \t DailyRate \t Department\n",
      "31\t100\t\t218\t\tSales\n",
      "29\t100\t\t224\t\tResearch & Development\n",
      "45\t100\t\t306\t\tSales\n",
      "38\t100\t\t345\t\tSales\n",
      "35\t100\t\t528\t\tHuman Resources\n",
      "22\t100\t\t594\t\tResearch & Development\n",
      "19\t100\t\t602\t\tSales\n",
      "26\t100\t\t652\t\tResearch & Development\n",
      "34\t100\t\t702\t\tResearch & Development\n",
      "32\t100\t\t976\t\tSales\n",
      "21\t100\t\t996\t\tResearch & Development\n",
      "37\t100\t\t1040\t\tResearch & Development\n",
      "50\t100\t\t1046\t\tResearch & Development\n",
      "36\t100\t\t1120\t\tSales\n",
      "33\t100\t\t1198\t\tResearch & Development\n",
      "32\t100\t\t1311\t\tResearch & Development\n",
      "38\t100\t\t1336\t\tHuman Resources\n",
      "31\t100\t\t1445\t\tResearch & Development\n",
      "40\t100\t\t1479\t\tSales\n",
      "40\t61\t\t1492\t\tResearch & Development\n",
      "49\t96\t\t1495\t\tResearch & Development\n",
      "38\t76\t\t1495\t\tResearch & Development\n",
      "38\t87\t\t1495\t\tResearch & Development\n",
      "28\t92\t\t1496\t\tSales\n",
      "29\t41\t\t1496\t\tResearch & Development\n",
      "39\t44\t\t1498\t\tSales\n",
      "60\t80\t\t1499\t\tSales\n"
     ]
    }
   ],
   "source": [
    "employees = collection.find(\n",
    "    {  \n",
    "        \"$or\": [\n",
    "            { \"HourlyRate\": { \"$gte\": 100 } },  \n",
    "            { \"DailyRate\": { \"$gt\": 1490 } }  \n",
    "        ]\n",
    "    },  # Filter conditions\n",
    "    { \"Age\": 1, \"HourlyRate\": 1, \"DailyRate\": 1, \"Department\": 1, \"_id\": 0 }  # Projection (only required fields)\n",
    ").sort(\"DailyRate\", 1)  # Sorting by DailyRate in ascending order\n",
    "\n",
    "# Print formatted output\n",
    "print('Age', '\\t', 'HourlyRate', '\\t', 'DailyRate', '\\t', 'Department')\n",
    "\n",
    "for em in employees:\n",
    "    print('{0}\\t{1}\\t\\t{2}\\t\\t{3}'.format(em['Age'], em['HourlyRate'], em['DailyRate'], em['Department']))\n"
   ]
  },
  {
   "cell_type": "markdown",
   "metadata": {},
   "source": [
    "5. For each JobRole, find the average MonthlyIncome. Print out the formatted monthly incomes in hundredth and arrange them in descending order.\n"
   ]
  },
  {
   "cell_type": "code",
   "execution_count": 142,
   "metadata": {},
   "outputs": [
    {
     "name": "stdout",
     "output_type": "stream",
     "text": [
      "Job Role \t\t Average Monthly Income\n",
      "Manager                   17181.68\n",
      "Research Director         16033.55\n",
      "Healthcare Representative 7528.76\n",
      "Manufacturing Director    7295.14\n",
      "Sales Executive           6924.28\n",
      "Human Resources           4235.75\n",
      "Research Scientist        3239.97\n",
      "Laboratory Technician     3237.17\n",
      "Sales Representative      2626.00\n"
     ]
    }
   ],
   "source": [
    "pipeline = [\n",
    "    {\n",
    "        \"$group\": {\n",
    "            \"_id\": \"$JobRole\",  # Group by JobRole\n",
    "            \"AvgMonthlyIncome\": { \"$avg\": \"$MonthlyIncome\" }  # Calculate average MonthlyIncome\n",
    "        }\n",
    "    },\n",
    "    {\n",
    "        \"$sort\": { \"AvgMonthlyIncome\": -1 }  # Sort in descending order\n",
    "    }\n",
    "]\n",
    "\n",
    "# Execute aggregation pipeline\n",
    "results = collection.aggregate(pipeline)\n",
    "\n",
    "# Print formatted output\n",
    "print('Job Role', '\\t\\t', 'Average Monthly Income')\n",
    "\n",
    "for res in results:\n",
    "    print('{0:25} {1:.2f}'.format(res['_id'], res['AvgMonthlyIncome']))\n"
   ]
  },
  {
   "cell_type": "markdown",
   "metadata": {},
   "source": [
    "6. Count the different MaritalStatus when Attrition is YES and AGE is greater than 35 in the dataset. Arrange the count in descending order.\n"
   ]
  },
  {
   "cell_type": "code",
   "execution_count": 147,
   "metadata": {},
   "outputs": [
    {
     "name": "stdout",
     "output_type": "stream",
     "text": [
      "Marital Status \t\t Count\n",
      "Married         \t 33\n",
      "Single          \t 30\n",
      "Divorced        \t 14\n"
     ]
    }
   ],
   "source": [
    "MaritalStatus = [\n",
    "    {\n",
    "        \"$match\": {  \n",
    "            \"Attrition\": \"Yes\",  \n",
    "            \"Age\": { \"$gt\": 35 }  \n",
    "        }  # Filter employees with Attrition \"YES\" and Age > 35\n",
    "    },\n",
    "    {\n",
    "        \"$group\": {  \n",
    "            \"_id\": \"$MaritalStatus\",  # Group by MaritalStatus\n",
    "            \"Count\": { \"$sum\": 1 }  # Count occurrences\n",
    "        }\n",
    "    },\n",
    "    {\n",
    "        \"$sort\": { \"Count\": -1 }  # Sort by Count in descending order\n",
    "    }\n",
    "]\n",
    "\n",
    "# Execute aggregation pipeline\n",
    "results = collection.aggregate(MaritalStatus)\n",
    "\n",
    "# Print formatted output\n",
    "print('Marital Status', '\\t\\t', 'Count')\n",
    "\n",
    "for res in results:\n",
    "    print('{0:15} \\t {1}'.format(res['_id'], res['Count']))\n"
   ]
  },
  {
   "cell_type": "markdown",
   "metadata": {},
   "source": [
    "Delete All Documents in a Collection\n"
   ]
  },
  {
   "cell_type": "code",
   "execution_count": null,
   "metadata": {},
   "outputs": [
    {
     "name": "stdout",
     "output_type": "stream",
     "text": [
      "1470 documents are deleted.\n"
     ]
    }
   ],
   "source": [
    "columns_del = collection.delete_many({})\n",
    "print(columns_del.deleted_count, \"documents are deleted from the collection.\")\n",
    "collection.drop()"
   ]
  },
  {
   "cell_type": "markdown",
   "metadata": {},
   "source": [
    "References\n",
    "\n"
   ]
  },
  {
   "cell_type": "markdown",
   "metadata": {},
   "source": [
    "More references (Optional):\n",
    "\n",
    "[1] PyMongo Documentations: https://pymongo.readthedocs.io/en/stable/\n",
    "[2] Python MongoDB: https://www.w3schools.com/python/python_mongodb_getstarted.asp\n",
    "[3] MongoDB Toturials: https://docs.mongodb.com/manual/tutorial/"
   ]
  }
 ],
 "metadata": {
  "kernelspec": {
   "display_name": ".venv",
   "language": "python",
   "name": "python3"
  },
  "language_info": {
   "codemirror_mode": {
    "name": "ipython",
    "version": 3
   },
   "file_extension": ".py",
   "mimetype": "text/x-python",
   "name": "python",
   "nbconvert_exporter": "python",
   "pygments_lexer": "ipython3",
   "version": "3.11.3"
  }
 },
 "nbformat": 4,
 "nbformat_minor": 2
}
