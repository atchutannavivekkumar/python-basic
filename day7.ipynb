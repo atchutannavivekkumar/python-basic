{
 "cells": [
  {
   "cell_type": "code",
   "execution_count": 3,
   "metadata": {},
   "outputs": [
    {
     "name": "stdout",
     "output_type": "stream",
     "text": [
      "Bdjs Iiaji  Iqsi\n"
     ]
    }
   ],
   "source": [
    "a = 'bdjs iiaji  iqsi'\n",
    "\n",
    "print(a.title())"
   ]
  },
  {
   "cell_type": "code",
   "execution_count": 2,
   "metadata": {},
   "outputs": [
    {
     "name": "stdout",
     "output_type": "stream",
     "text": [
      "Hello, Vivek! , Do  you like to do coding\n"
     ]
    }
   ],
   "source": [
    "Name = str(input(\"Enter the name: \"))\n",
    "\n",
    "Message = f\"Hello, {Name.title()}! , Do  you like to do coding\"\n",
    "\n",
    "print(Message)"
   ]
  },
  {
   "cell_type": "code",
   "execution_count": 3,
   "metadata": {},
   "outputs": [
    {
     "name": "stdout",
     "output_type": "stream",
     "text": [
      "Vie\n",
      "VIE\n",
      "vie\n"
     ]
    }
   ],
   "source": [
    "Name = str(input(\"Enter the name: \"))\n",
    "\n",
    "print(Name.title())\n",
    "print(Name.upper())\n",
    "print(Name.lower())"
   ]
  },
  {
   "cell_type": "code",
   "execution_count": 7,
   "metadata": {},
   "outputs": [
    {
     "name": "stdout",
     "output_type": "stream",
     "text": [
      "Jhki said that, \"Bjn\"  \n"
     ]
    }
   ],
   "source": [
    "Author = str(input(\"Enter the name author: \"))\n",
    "quote = str(input(\"Enter the quote of the author: \"))\n",
    "\n",
    "final_quote = f'{Author.title()} said that, \"{quote.title()}\"  '\n",
    "\n",
    "print(final_quote)"
   ]
  },
  {
   "cell_type": "code",
   "execution_count": 8,
   "metadata": {},
   "outputs": [
    {
     "name": "stdout",
     "output_type": "stream",
     "text": [
      "['pen', 'book', 'tape', 'tap']\n"
     ]
    }
   ],
   "source": [
    "list = ['pen', 'book', 'tape', 'tap']\n",
    "\n",
    "print(list)"
   ]
  },
  {
   "cell_type": "code",
   "execution_count": 9,
   "metadata": {},
   "outputs": [
    {
     "name": "stdout",
     "output_type": "stream",
     "text": [
      "['pen', 'book', 'tape', 'tap']\n",
      "['laptop', 'book', 'tape', 'tap']\n"
     ]
    }
   ],
   "source": [
    "list = ['pen', 'book', 'tape', 'tap']\n",
    "\n",
    "print(list)\n",
    "\n",
    "list[0] = \"laptop\"\n",
    "\n",
    "print(list)"
   ]
  },
  {
   "cell_type": "code",
   "execution_count": 10,
   "metadata": {},
   "outputs": [
    {
     "name": "stdout",
     "output_type": "stream",
     "text": [
      "['pen', 'book', 'tape', 'tap', 'watch']\n"
     ]
    }
   ],
   "source": [
    "list = ['pen', 'book', 'tape', 'tap'] \n",
    "\n",
    "list.append('watch')\n",
    "\n",
    "print(list)"
   ]
  },
  {
   "cell_type": "code",
   "execution_count": 11,
   "metadata": {},
   "outputs": [
    {
     "name": "stdout",
     "output_type": "stream",
     "text": [
      "['book', 'tape', 'tap']\n"
     ]
    }
   ],
   "source": [
    "list = ['pen', 'book', 'tape', 'tap'] \n",
    "\n",
    "del list[0]\n",
    "\n",
    "print(list)"
   ]
  }
 ],
 "metadata": {
  "kernelspec": {
   "display_name": "base",
   "language": "python",
   "name": "python3"
  },
  "language_info": {
   "codemirror_mode": {
    "name": "ipython",
    "version": 3
   },
   "file_extension": ".py",
   "mimetype": "text/x-python",
   "name": "python",
   "nbconvert_exporter": "python",
   "pygments_lexer": "ipython3",
   "version": "3.12.4"
  }
 },
 "nbformat": 4,
 "nbformat_minor": 2
}
