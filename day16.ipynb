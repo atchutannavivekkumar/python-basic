{
 "cells": [
  {
   "cell_type": "code",
   "execution_count": 14,
   "id": "0f986f49",
   "metadata": {},
   "outputs": [
    {
     "name": "stdout",
     "output_type": "stream",
     "text": [
      "60\n"
     ]
    }
   ],
   "source": [
    "prices= [10,20,30]\n",
    "sum = 0 \n",
    "for i in prices:\n",
    "    sum = sum + i\n",
    "print(sum)\n"
   ]
  },
  {
   "cell_type": "code",
   "execution_count": null,
   "id": "53d1ebd4",
   "metadata": {},
   "outputs": [
    {
     "name": "stdout",
     "output_type": "stream",
     "text": [
      "XXXXX\n",
      "XX\n",
      "XXXXX\n",
      "XX\n",
      "XX\n"
     ]
    }
   ],
   "source": [
    "numbers = [5,2,5,2,2]\n",
    "j= 0\n",
    "for i in numbers:\n",
    "    output = ''\n",
    "    for j in range(i):\n",
    "        output = 'X' + output   \n",
    "\n",
    "    print(output) "
   ]
  },
  {
   "cell_type": "code",
   "execution_count": 48,
   "id": "b456f9fa",
   "metadata": {},
   "outputs": [
    {
     "name": "stdout",
     "output_type": "stream",
     "text": [
      "0\n",
      "1\n",
      "2\n"
     ]
    }
   ],
   "source": [
    "numbers = [0,1,2]\n",
    "for i in numbers:\n",
    "    print(i)"
   ]
  },
  {
   "cell_type": "code",
   "execution_count": 51,
   "id": "6244fc93",
   "metadata": {},
   "outputs": [
    {
     "name": "stdout",
     "output_type": "stream",
     "text": [
      "4 is the greatest number.\n"
     ]
    }
   ],
   "source": [
    "numbers = [1,4,3]\n",
    "\n",
    "i= 0\n",
    "if numbers[i] > numbers[i+1]:\n",
    "    if numbers[i] > numbers[i+2]:\n",
    "        print(f\"{numbers[i]} is the greatest number.\")\n",
    "    else:\n",
    "        print(f\"{numbers[i+2]} is the greatest number.\")\n",
    "elif numbers[i] < numbers[i+1]:\n",
    "    print(f\"{numbers[i+1]} is the greatest number.\")\n",
    "else:\n",
    "    print(f\"{numbers[i+2]} is the greatest number.\")\n",
    "\n"
   ]
  },
  {
   "cell_type": "code",
   "execution_count": 55,
   "id": "900060b8",
   "metadata": {},
   "outputs": [
    {
     "name": "stdout",
     "output_type": "stream",
     "text": [
      "6 is the greatest number.\n"
     ]
    }
   ],
   "source": [
    "numbers = [1,4,5,2,6]\n",
    "max = numbers[0]\n",
    "\n",
    "for i in numbers:\n",
    "    if i > max:\n",
    "        max = i\n",
    "print(max, \"is the greatest number.\")"
   ]
  },
  {
   "cell_type": "code",
   "execution_count": 59,
   "id": "027573b5",
   "metadata": {},
   "outputs": [
    {
     "name": "stdout",
     "output_type": "stream",
     "text": [
      "4\n",
      "Printing numbers in the list. \n",
      "1\n",
      "3\n",
      "4\n",
      "2\n",
      "3\n",
      "4\n",
      "3\n",
      "2\n",
      "1\n"
     ]
    }
   ],
   "source": [
    "twod_list = [[1,3,4],\n",
    "            [2,3,4],\n",
    "            [3,2,1]]\n",
    "print(twod_list[0][2])\n",
    "\n",
    "print(\"Printing numbers in the list. \")\n",
    "for rows in twod_list:\n",
    "    for numbers in rows:\n",
    "        print(numbers)"
   ]
  },
  {
   "cell_type": "code",
   "execution_count": 4,
   "id": "c5a44292",
   "metadata": {},
   "outputs": [
    {
     "name": "stdout",
     "output_type": "stream",
     "text": [
      "[1, 2, 3, 4, 6]\n"
     ]
    }
   ],
   "source": [
    "numbers = [3,4,5,6,2]\n",
    "\n",
    "#change number\n",
    "numbers[0] = 1\n",
    "#print(numbers)\n",
    "\n",
    "#add no at end of list \n",
    "numbers.append(20)\n",
    "#print(numbers)\n",
    "\n",
    "#adding no at beginning\n",
    "numbers.insert(0,3)\n",
    "#print(numbers)\n",
    "\n",
    "#remove no\n",
    "#to empty the list clear \n",
    "numbers.remove(5)\n",
    "#print(numbers)\n",
    "\n",
    "#to remove last item \n",
    "numbers.pop()\n",
    "#print(numbers)\n",
    "\n",
    "#to get the where it comes in the list \n",
    "#print(numbers)\n",
    "#print(numbers.index(4))\n",
    "\n",
    "numbers.sort()\n",
    "print(numbers)"
   ]
  },
  {
   "cell_type": "code",
   "execution_count": 33,
   "id": "22241677",
   "metadata": {},
   "outputs": [
    {
     "name": "stdout",
     "output_type": "stream",
     "text": [
      "Sorted numbers: [1, 2, 2, 3, 3, 4, 5]\n",
      "Duplicates removed: [1, 2, 3, 4, 5]\n"
     ]
    }
   ],
   "source": [
    "Number = [1, 2, 3, 2, 5, 3, 4]\n",
    "Number.sort()\n",
    "print(f\"Sorted numbers: {Number}\")\n",
    "i = 0\n",
    "while i < len(Number)-1:\n",
    "    if Number[i] == Number[i + 1]:\n",
    "        Number.pop(i)  # or use Number.remove(Number[i])\n",
    "    else:\n",
    "        i += 1\n",
    "\n",
    "print(\"Duplicates removed:\", Number)\n"
   ]
  }
 ],
 "metadata": {
  "kernelspec": {
   "display_name": "base",
   "language": "python",
   "name": "python3"
  },
  "language_info": {
   "codemirror_mode": {
    "name": "ipython",
    "version": 3
   },
   "file_extension": ".py",
   "mimetype": "text/x-python",
   "name": "python",
   "nbconvert_exporter": "python",
   "pygments_lexer": "ipython3",
   "version": "3.12.4"
  }
 },
 "nbformat": 4,
 "nbformat_minor": 5
}
