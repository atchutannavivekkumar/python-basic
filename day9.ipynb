{
 "cells": [
  {
   "cell_type": "code",
   "execution_count": 1,
   "id": "8d0c8124",
   "metadata": {},
   "outputs": [
    {
     "name": "stderr",
     "output_type": "stream",
     "text": [
      "[nltk_data] Downloading package wordnet to\n",
      "[nltk_data]     /Users/vivekkumar/nltk_data...\n"
     ]
    },
    {
     "data": {
      "text/plain": [
       "True"
      ]
     },
     "execution_count": 1,
     "metadata": {},
     "output_type": "execute_result"
    }
   ],
   "source": [
    "import nltk\n",
    "nltk.download('wordnet')\n"
   ]
  },
  {
   "cell_type": "code",
   "execution_count": 2,
   "id": "2fefeb88",
   "metadata": {},
   "outputs": [
    {
     "name": "stdout",
     "output_type": "stream",
     "text": [
      "Synset name :   hello.n.01\n",
      "\n",
      "Synset meaning :  an expression of greeting\n",
      "\n",
      "Synset example :  ['every morning they exchanged polite hellos']\n"
     ]
    }
   ],
   "source": [
    "from nltk.corpus import wordnet\n",
    "syn = wordnet.synsets('hello')[0]\n",
    " \n",
    "print (\"Synset name :  \", syn.name())\n",
    " \n",
    "# Defining the word\n",
    "print (\"\\nSynset meaning : \", syn.definition())\n",
    " \n",
    "# list of phrases that use the word in context\n",
    "print (\"\\nSynset example : \", syn.examples())"
   ]
  },
  {
   "cell_type": "markdown",
   "id": "6f241ecf",
   "metadata": {},
   "source": [
    "Normalization:\n",
    "converting text into a standard format to make it easier to analyze and process"
   ]
  },
  {
   "cell_type": "markdown",
   "id": "387fcb62",
   "metadata": {},
   "source": [
    "Step 1 : Tokenization \n",
    "\n",
    "Tokenization is the process of breaking down text into smaller, meaningful units called tokens. "
   ]
  },
  {
   "cell_type": "markdown",
   "id": "acbc55ae",
   "metadata": {},
   "source": [
    "Step 2: Conversion if the words to all same case characters "
   ]
  },
  {
   "cell_type": "markdown",
   "id": "230cbf56",
   "metadata": {},
   "source": [
    "Step 3: Elimination of stop words "
   ]
  },
  {
   "cell_type": "markdown",
   "id": "56dcd50c",
   "metadata": {},
   "source": [
    "Step 4: Stemming \n",
    "\n",
    "They are two types of stemming \n",
    "    1. porter stemming\n",
    "    2. Lancaster Stemming \n",
    "\n",
    "1 - porter stemming:\n",
    "(P Stemmer)\n",
    "Invented by: Martin Porter (1980)\n",
    "\n",
    "Stemming approach: Rule-based, conservative\n",
    "\n",
    "Goal: Tries to reduce a word to its root form without overdoing it.\n",
    "\n",
    "Pros:\n",
    "\n",
    "Less aggressive → fewer errors from over-stemming\n",
    "\n",
    "Preserves more meaning\n",
    "\n",
    "Cons:\n",
    "\n",
    "Sometimes leaves suffixes intact (e.g., \"relational\" → \"relat\", but \"conformational\" → \"conform\")\n",
    "\n",
    "Example:\n",
    "\n",
    "\"connection\" → \"connect\"\n",
    "\n",
    "\"connected\" → \"connect\"\n",
    "\n",
    "2 - Lancaster Stemmer\n",
    "(L Stemmer)\n",
    "Also known as: Paice-Husk Stemmer\n",
    "\n",
    "Stemming approach: Rule-based, very aggressive\n",
    "\n",
    "Goal: Strips suffixes aggressively to find a root\n",
    "\n",
    "Pros:\n",
    "\n",
    "Faster and more aggressive\n",
    "\n",
    "Cons:\n",
    "\n",
    "Can over-stem and distort meaning\n",
    "\n",
    "Example:\n",
    "\n",
    "\"connection\" → \"connect\"\n",
    "\n",
    "\"connected\" → \"connect\"\n",
    "\n",
    "\"maximum\" → \"maxim\"\n",
    "\n",
    "\"presumably\" → \"presum\"\n",
    "\n",
    "Sometimes even overdoes it: \"apply\" → \"ap\""
   ]
  },
  {
   "cell_type": "code",
   "execution_count": null,
   "id": "d092ef77",
   "metadata": {},
   "outputs": [
    {
     "data": {
      "text/plain": [
       "['}', 'HELP', '!', ':)))', ':', ':[[', '.....', ':', 'D']"
      ]
     },
     "execution_count": 4,
     "metadata": {},
     "output_type": "execute_result"
    }
   ],
   "source": [
    "from nltk.tokenize import WordPunctTokenizer\n",
    "\n",
    "word_punct = WordPunctTokenizer()\n",
    "text = \"}HELP!  :)))  :  :[[ .....  :D\"\n",
    "word_punct.tokenize(text)\n"
   ]
  },
  {
   "cell_type": "code",
   "execution_count": 16,
   "id": "72ee86a2",
   "metadata": {},
   "outputs": [
    {
     "data": {
      "text/plain": [
       "'wonder'"
      ]
     },
     "execution_count": 16,
     "metadata": {},
     "output_type": "execute_result"
    }
   ],
   "source": [
    "from nltk.stem import PorterStemmer\n",
    "from nltk.stem import LancasterStemmer\n",
    "\n",
    "pstemmer = PorterStemmer()\n",
    "text = \"wonderful\"\n",
    "\n",
    "pstemmer.stem(text)\n",
    "\n",
    "\n",
    "\n"
   ]
  },
  {
   "cell_type": "code",
   "execution_count": 17,
   "id": "7f1aff1e",
   "metadata": {},
   "outputs": [
    {
     "data": {
      "text/plain": [
       "'wond'"
      ]
     },
     "execution_count": 17,
     "metadata": {},
     "output_type": "execute_result"
    }
   ],
   "source": [
    "from nltk.stem import LancasterStemmer\n",
    "\n",
    "text = \"wonderful\"\n",
    "\n",
    "lstemmer = LancasterStemmer()\n",
    "\n",
    "lstemmer.stem(text)"
   ]
  },
  {
   "cell_type": "markdown",
   "id": "23ac9658",
   "metadata": {},
   "source": [
    "step 5: Lemmatization\n",
    "\n",
    "Lemmatization is the process of grouping together different inflected forms of the same word."
   ]
  },
  {
   "cell_type": "code",
   "execution_count": 21,
   "id": "6bcbc7f8",
   "metadata": {},
   "outputs": [
    {
     "data": {
      "text/plain": [
       "'wonderful'"
      ]
     },
     "execution_count": 21,
     "metadata": {},
     "output_type": "execute_result"
    }
   ],
   "source": [
    "from nltk.stem import WordNetLemmatizer\n",
    "\n",
    "lemmatizing = WordNetLemmatizer()\n",
    "lemmatizing.lemmatize(\"wonderful\")\n"
   ]
  },
  {
   "cell_type": "markdown",
   "id": "a17274e1",
   "metadata": {},
   "source": [
    "Pos tag:\n",
    "\n"
   ]
  }
 ],
 "metadata": {
  "kernelspec": {
   "display_name": "base",
   "language": "python",
   "name": "python3"
  },
  "language_info": {
   "codemirror_mode": {
    "name": "ipython",
    "version": 3
   },
   "file_extension": ".py",
   "mimetype": "text/x-python",
   "name": "python",
   "nbconvert_exporter": "python",
   "pygments_lexer": "ipython3",
   "version": "3.12.4"
  }
 },
 "nbformat": 4,
 "nbformat_minor": 5
}
