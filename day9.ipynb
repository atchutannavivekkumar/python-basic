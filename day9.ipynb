{
 "cells": [
  {
   "cell_type": "code",
   "execution_count": 1,
   "id": "8d0c8124",
   "metadata": {},
   "outputs": [
    {
     "name": "stderr",
     "output_type": "stream",
     "text": [
      "[nltk_data] Downloading package wordnet to\n",
      "[nltk_data]     /Users/vivekkumar/nltk_data...\n"
     ]
    },
    {
     "data": {
      "text/plain": [
       "True"
      ]
     },
     "execution_count": 1,
     "metadata": {},
     "output_type": "execute_result"
    }
   ],
   "source": [
    "import nltk\n",
    "nltk.download('wordnet')\n"
   ]
  },
  {
   "cell_type": "code",
   "execution_count": 2,
   "id": "2fefeb88",
   "metadata": {},
   "outputs": [
    {
     "name": "stdout",
     "output_type": "stream",
     "text": [
      "Synset name :   hello.n.01\n",
      "\n",
      "Synset meaning :  an expression of greeting\n",
      "\n",
      "Synset example :  ['every morning they exchanged polite hellos']\n"
     ]
    }
   ],
   "source": [
    "from nltk.corpus import wordnet\n",
    "syn = wordnet.synsets('hello')[0]\n",
    " \n",
    "print (\"Synset name :  \", syn.name())\n",
    " \n",
    "# Defining the word\n",
    "print (\"\\nSynset meaning : \", syn.definition())\n",
    " \n",
    "# list of phrases that use the word in context\n",
    "print (\"\\nSynset example : \", syn.examples())"
   ]
  },
  {
   "cell_type": "markdown",
   "id": "6f241ecf",
   "metadata": {},
   "source": [
    "Normalization:\n",
    "\n",
    "\n",
    "Tokenization:"
   ]
  },
  {
   "cell_type": "code",
   "execution_count": 4,
   "id": "d092ef77",
   "metadata": {},
   "outputs": [
    {
     "data": {
      "text/plain": [
       "['}', 'HELP', '!', ':)))', ':', ':[[', '.....', ':', 'D']"
      ]
     },
     "execution_count": 4,
     "metadata": {},
     "output_type": "execute_result"
    }
   ],
   "source": [
    "from nltk.tokenize import WordPunctTokenizer\n",
    "\n",
    "word_punct = WordPunctTokenizer()\n",
    "text = \"}HELP!  :)))  :  :[[ .....  :D\"\n",
    "word_punct.tokenize(text)\n"
   ]
  },
  {
   "cell_type": "code",
   "execution_count": 8,
   "id": "72ee86a2",
   "metadata": {},
   "outputs": [
    {
     "data": {
      "text/plain": [
       "'wonder'"
      ]
     },
     "execution_count": 8,
     "metadata": {},
     "output_type": "execute_result"
    }
   ],
   "source": [
    "from nltk.stem import PorterStemmer\n",
    "\n",
    "stemmer = PorterStemmer()\n",
    "text = \"wonderful\"\n",
    "stemmer.stem(text)"
   ]
  }
 ],
 "metadata": {
  "kernelspec": {
   "display_name": "base",
   "language": "python",
   "name": "python3"
  },
  "language_info": {
   "codemirror_mode": {
    "name": "ipython",
    "version": 3
   },
   "file_extension": ".py",
   "mimetype": "text/x-python",
   "name": "python",
   "nbconvert_exporter": "python",
   "pygments_lexer": "ipython3",
   "version": "3.12.4"
  }
 },
 "nbformat": 4,
 "nbformat_minor": 5
}
